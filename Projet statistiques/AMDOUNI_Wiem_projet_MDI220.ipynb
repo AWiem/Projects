{
  "cells": [
    {
      "cell_type": "markdown",
      "id": "528c4397",
      "metadata": {
        "id": "528c4397"
      },
      "source": [
        "# MDI220\n",
        "# Statistiques\n",
        "\n",
        "# Mini-project"
      ]
    },
    {
      "cell_type": "markdown",
      "id": "9f9f9769",
      "metadata": {
        "id": "9f9f9769"
      },
      "source": [
        "Ce mini-projet est pour le cours Statistiques MDI220.\n",
        "\n",
        "Vous devez remplir ce notebook et le uploader sur eCampus, **avec les figures**. S'il vous plaît, assurez-vous que le notebook s'execute **sans erreurs**.\n",
        "\n",
        "Vous pouvez accomplir ce projet en français ou en anglais (votre préférence).\n",
        "\n",
        "Vous pouvez travailler en equipe, mais le notebook final, compris le texte et le code, doit être **votre propre**. Plagiat entre les étudiants est strictement interdit.\n",
        "\n",
        "S'il vous plaît, donner **la réponse concise** et **le code concis**, avec des commentaires ou approprié.\n",
        "\n",
        "(Re)nommer le fichier de ce notebook dans le format suivant : \"NOM_Prenom_projet_MDI220.ipynb\"."
      ]
    },
    {
      "cell_type": "markdown",
      "id": "ca534555",
      "metadata": {
        "id": "ca534555"
      },
      "source": [
        "## Votre nom: **AMDOUNI Wiem**"
      ]
    },
    {
      "cell_type": "markdown",
      "id": "986d36a8",
      "metadata": {
        "id": "986d36a8"
      },
      "source": [
        "## Imports"
      ]
    },
    {
      "cell_type": "markdown",
      "id": "f30a6df8",
      "metadata": {
        "id": "f30a6df8"
      },
      "source": [
        "S'il vous plaît, **n'importez pas** d'autres librairies."
      ]
    },
    {
      "cell_type": "code",
      "execution_count": 230,
      "id": "d453a573",
      "metadata": {
        "id": "d453a573"
      },
      "outputs": [],
      "source": [
        "import numpy as np\n",
        "import pandas as pd\n",
        "import matplotlib.pyplot as plt"
      ]
    },
    {
      "cell_type": "code",
      "execution_count": 231,
      "id": "18e10613",
      "metadata": {
        "id": "18e10613"
      },
      "outputs": [],
      "source": [
        "from scipy.stats import norm, chi2, gaussian_kde"
      ]
    },
    {
      "cell_type": "code",
      "execution_count": 232,
      "id": "2e543f41",
      "metadata": {
        "id": "2e543f41"
      },
      "outputs": [],
      "source": [
        "import seaborn as sns"
      ]
    },
    {
      "cell_type": "markdown",
      "id": "150efe52",
      "metadata": {
        "id": "150efe52"
      },
      "source": [
        "## Données"
      ]
    },
    {
      "cell_type": "markdown",
      "id": "a447bd21",
      "metadata": {
        "id": "a447bd21"
      },
      "source": [
        "Nous considérons les données de **consomation quotidienne d'electricité** (en MW) en France dans le période 2013-2023. Les données sont accessibles sur **eCampus**.\n",
        "\n",
        "Les informationnes détaillées sur les données sont accessible [ici](https://www.data.gouv.fr/fr/datasets/consommation-quotidienne-brute-regionale/)."
      ]
    },
    {
      "cell_type": "code",
      "execution_count": 233,
      "id": "a5379d2c",
      "metadata": {
        "id": "a5379d2c"
      },
      "outputs": [],
      "source": [
        "# do not modify this cell\n",
        "filename = 'power_consumption.csv'\n",
        "df = pd.read_csv(filename)"
      ]
    },
    {
      "cell_type": "code",
      "execution_count": 234,
      "id": "c67ea70e",
      "metadata": {
        "colab": {
          "base_uri": "https://localhost:8080/",
          "height": 206
        },
        "id": "c67ea70e",
        "outputId": "4dbc5ea5-ff76-46f4-a441-c0f58c0c5f3b"
      },
      "outputs": [
        {
          "output_type": "execute_result",
          "data": {
            "text/plain": [
              "                 region        date  consumption\n",
              "0  Auvergne-Rhône-Alpes  2013-01-01         7560\n",
              "1  Auvergne-Rhône-Alpes  2013-01-02         8700\n",
              "2  Auvergne-Rhône-Alpes  2013-01-03         9367\n",
              "3  Auvergne-Rhône-Alpes  2013-01-04         9133\n",
              "4  Auvergne-Rhône-Alpes  2013-01-05         8283"
            ],
            "text/html": [
              "\n",
              "  <div id=\"df-acb833ea-d2dc-4c89-becb-99eb31649eac\" class=\"colab-df-container\">\n",
              "    <div>\n",
              "<style scoped>\n",
              "    .dataframe tbody tr th:only-of-type {\n",
              "        vertical-align: middle;\n",
              "    }\n",
              "\n",
              "    .dataframe tbody tr th {\n",
              "        vertical-align: top;\n",
              "    }\n",
              "\n",
              "    .dataframe thead th {\n",
              "        text-align: right;\n",
              "    }\n",
              "</style>\n",
              "<table border=\"1\" class=\"dataframe\">\n",
              "  <thead>\n",
              "    <tr style=\"text-align: right;\">\n",
              "      <th></th>\n",
              "      <th>region</th>\n",
              "      <th>date</th>\n",
              "      <th>consumption</th>\n",
              "    </tr>\n",
              "  </thead>\n",
              "  <tbody>\n",
              "    <tr>\n",
              "      <th>0</th>\n",
              "      <td>Auvergne-Rhône-Alpes</td>\n",
              "      <td>2013-01-01</td>\n",
              "      <td>7560</td>\n",
              "    </tr>\n",
              "    <tr>\n",
              "      <th>1</th>\n",
              "      <td>Auvergne-Rhône-Alpes</td>\n",
              "      <td>2013-01-02</td>\n",
              "      <td>8700</td>\n",
              "    </tr>\n",
              "    <tr>\n",
              "      <th>2</th>\n",
              "      <td>Auvergne-Rhône-Alpes</td>\n",
              "      <td>2013-01-03</td>\n",
              "      <td>9367</td>\n",
              "    </tr>\n",
              "    <tr>\n",
              "      <th>3</th>\n",
              "      <td>Auvergne-Rhône-Alpes</td>\n",
              "      <td>2013-01-04</td>\n",
              "      <td>9133</td>\n",
              "    </tr>\n",
              "    <tr>\n",
              "      <th>4</th>\n",
              "      <td>Auvergne-Rhône-Alpes</td>\n",
              "      <td>2013-01-05</td>\n",
              "      <td>8283</td>\n",
              "    </tr>\n",
              "  </tbody>\n",
              "</table>\n",
              "</div>\n",
              "    <div class=\"colab-df-buttons\">\n",
              "\n",
              "  <div class=\"colab-df-container\">\n",
              "    <button class=\"colab-df-convert\" onclick=\"convertToInteractive('df-acb833ea-d2dc-4c89-becb-99eb31649eac')\"\n",
              "            title=\"Convert this dataframe to an interactive table.\"\n",
              "            style=\"display:none;\">\n",
              "\n",
              "  <svg xmlns=\"http://www.w3.org/2000/svg\" height=\"24px\" viewBox=\"0 -960 960 960\">\n",
              "    <path d=\"M120-120v-720h720v720H120Zm60-500h600v-160H180v160Zm220 220h160v-160H400v160Zm0 220h160v-160H400v160ZM180-400h160v-160H180v160Zm440 0h160v-160H620v160ZM180-180h160v-160H180v160Zm440 0h160v-160H620v160Z\"/>\n",
              "  </svg>\n",
              "    </button>\n",
              "\n",
              "  <style>\n",
              "    .colab-df-container {\n",
              "      display:flex;\n",
              "      gap: 12px;\n",
              "    }\n",
              "\n",
              "    .colab-df-convert {\n",
              "      background-color: #E8F0FE;\n",
              "      border: none;\n",
              "      border-radius: 50%;\n",
              "      cursor: pointer;\n",
              "      display: none;\n",
              "      fill: #1967D2;\n",
              "      height: 32px;\n",
              "      padding: 0 0 0 0;\n",
              "      width: 32px;\n",
              "    }\n",
              "\n",
              "    .colab-df-convert:hover {\n",
              "      background-color: #E2EBFA;\n",
              "      box-shadow: 0px 1px 2px rgba(60, 64, 67, 0.3), 0px 1px 3px 1px rgba(60, 64, 67, 0.15);\n",
              "      fill: #174EA6;\n",
              "    }\n",
              "\n",
              "    .colab-df-buttons div {\n",
              "      margin-bottom: 4px;\n",
              "    }\n",
              "\n",
              "    [theme=dark] .colab-df-convert {\n",
              "      background-color: #3B4455;\n",
              "      fill: #D2E3FC;\n",
              "    }\n",
              "\n",
              "    [theme=dark] .colab-df-convert:hover {\n",
              "      background-color: #434B5C;\n",
              "      box-shadow: 0px 1px 3px 1px rgba(0, 0, 0, 0.15);\n",
              "      filter: drop-shadow(0px 1px 2px rgba(0, 0, 0, 0.3));\n",
              "      fill: #FFFFFF;\n",
              "    }\n",
              "  </style>\n",
              "\n",
              "    <script>\n",
              "      const buttonEl =\n",
              "        document.querySelector('#df-acb833ea-d2dc-4c89-becb-99eb31649eac button.colab-df-convert');\n",
              "      buttonEl.style.display =\n",
              "        google.colab.kernel.accessAllowed ? 'block' : 'none';\n",
              "\n",
              "      async function convertToInteractive(key) {\n",
              "        const element = document.querySelector('#df-acb833ea-d2dc-4c89-becb-99eb31649eac');\n",
              "        const dataTable =\n",
              "          await google.colab.kernel.invokeFunction('convertToInteractive',\n",
              "                                                    [key], {});\n",
              "        if (!dataTable) return;\n",
              "\n",
              "        const docLinkHtml = 'Like what you see? Visit the ' +\n",
              "          '<a target=\"_blank\" href=https://colab.research.google.com/notebooks/data_table.ipynb>data table notebook</a>'\n",
              "          + ' to learn more about interactive tables.';\n",
              "        element.innerHTML = '';\n",
              "        dataTable['output_type'] = 'display_data';\n",
              "        await google.colab.output.renderOutput(dataTable, element);\n",
              "        const docLink = document.createElement('div');\n",
              "        docLink.innerHTML = docLinkHtml;\n",
              "        element.appendChild(docLink);\n",
              "      }\n",
              "    </script>\n",
              "  </div>\n",
              "\n",
              "\n",
              "<div id=\"df-14c7e076-2b49-4a24-96b5-c2b633457dc2\">\n",
              "  <button class=\"colab-df-quickchart\" onclick=\"quickchart('df-14c7e076-2b49-4a24-96b5-c2b633457dc2')\"\n",
              "            title=\"Suggest charts.\"\n",
              "            style=\"display:none;\">\n",
              "\n",
              "<svg xmlns=\"http://www.w3.org/2000/svg\" height=\"24px\"viewBox=\"0 0 24 24\"\n",
              "     width=\"24px\">\n",
              "    <g>\n",
              "        <path d=\"M19 3H5c-1.1 0-2 .9-2 2v14c0 1.1.9 2 2 2h14c1.1 0 2-.9 2-2V5c0-1.1-.9-2-2-2zM9 17H7v-7h2v7zm4 0h-2V7h2v10zm4 0h-2v-4h2v4z\"/>\n",
              "    </g>\n",
              "</svg>\n",
              "  </button>\n",
              "\n",
              "<style>\n",
              "  .colab-df-quickchart {\n",
              "      --bg-color: #E8F0FE;\n",
              "      --fill-color: #1967D2;\n",
              "      --hover-bg-color: #E2EBFA;\n",
              "      --hover-fill-color: #174EA6;\n",
              "      --disabled-fill-color: #AAA;\n",
              "      --disabled-bg-color: #DDD;\n",
              "  }\n",
              "\n",
              "  [theme=dark] .colab-df-quickchart {\n",
              "      --bg-color: #3B4455;\n",
              "      --fill-color: #D2E3FC;\n",
              "      --hover-bg-color: #434B5C;\n",
              "      --hover-fill-color: #FFFFFF;\n",
              "      --disabled-bg-color: #3B4455;\n",
              "      --disabled-fill-color: #666;\n",
              "  }\n",
              "\n",
              "  .colab-df-quickchart {\n",
              "    background-color: var(--bg-color);\n",
              "    border: none;\n",
              "    border-radius: 50%;\n",
              "    cursor: pointer;\n",
              "    display: none;\n",
              "    fill: var(--fill-color);\n",
              "    height: 32px;\n",
              "    padding: 0;\n",
              "    width: 32px;\n",
              "  }\n",
              "\n",
              "  .colab-df-quickchart:hover {\n",
              "    background-color: var(--hover-bg-color);\n",
              "    box-shadow: 0 1px 2px rgba(60, 64, 67, 0.3), 0 1px 3px 1px rgba(60, 64, 67, 0.15);\n",
              "    fill: var(--button-hover-fill-color);\n",
              "  }\n",
              "\n",
              "  .colab-df-quickchart-complete:disabled,\n",
              "  .colab-df-quickchart-complete:disabled:hover {\n",
              "    background-color: var(--disabled-bg-color);\n",
              "    fill: var(--disabled-fill-color);\n",
              "    box-shadow: none;\n",
              "  }\n",
              "\n",
              "  .colab-df-spinner {\n",
              "    border: 2px solid var(--fill-color);\n",
              "    border-color: transparent;\n",
              "    border-bottom-color: var(--fill-color);\n",
              "    animation:\n",
              "      spin 1s steps(1) infinite;\n",
              "  }\n",
              "\n",
              "  @keyframes spin {\n",
              "    0% {\n",
              "      border-color: transparent;\n",
              "      border-bottom-color: var(--fill-color);\n",
              "      border-left-color: var(--fill-color);\n",
              "    }\n",
              "    20% {\n",
              "      border-color: transparent;\n",
              "      border-left-color: var(--fill-color);\n",
              "      border-top-color: var(--fill-color);\n",
              "    }\n",
              "    30% {\n",
              "      border-color: transparent;\n",
              "      border-left-color: var(--fill-color);\n",
              "      border-top-color: var(--fill-color);\n",
              "      border-right-color: var(--fill-color);\n",
              "    }\n",
              "    40% {\n",
              "      border-color: transparent;\n",
              "      border-right-color: var(--fill-color);\n",
              "      border-top-color: var(--fill-color);\n",
              "    }\n",
              "    60% {\n",
              "      border-color: transparent;\n",
              "      border-right-color: var(--fill-color);\n",
              "    }\n",
              "    80% {\n",
              "      border-color: transparent;\n",
              "      border-right-color: var(--fill-color);\n",
              "      border-bottom-color: var(--fill-color);\n",
              "    }\n",
              "    90% {\n",
              "      border-color: transparent;\n",
              "      border-bottom-color: var(--fill-color);\n",
              "    }\n",
              "  }\n",
              "</style>\n",
              "\n",
              "  <script>\n",
              "    async function quickchart(key) {\n",
              "      const quickchartButtonEl =\n",
              "        document.querySelector('#' + key + ' button');\n",
              "      quickchartButtonEl.disabled = true;  // To prevent multiple clicks.\n",
              "      quickchartButtonEl.classList.add('colab-df-spinner');\n",
              "      try {\n",
              "        const charts = await google.colab.kernel.invokeFunction(\n",
              "            'suggestCharts', [key], {});\n",
              "      } catch (error) {\n",
              "        console.error('Error during call to suggestCharts:', error);\n",
              "      }\n",
              "      quickchartButtonEl.classList.remove('colab-df-spinner');\n",
              "      quickchartButtonEl.classList.add('colab-df-quickchart-complete');\n",
              "    }\n",
              "    (() => {\n",
              "      let quickchartButtonEl =\n",
              "        document.querySelector('#df-14c7e076-2b49-4a24-96b5-c2b633457dc2 button');\n",
              "      quickchartButtonEl.style.display =\n",
              "        google.colab.kernel.accessAllowed ? 'block' : 'none';\n",
              "    })();\n",
              "  </script>\n",
              "</div>\n",
              "    </div>\n",
              "  </div>\n"
            ]
          },
          "metadata": {},
          "execution_count": 234
        }
      ],
      "source": [
        "df.head()"
      ]
    },
    {
      "cell_type": "code",
      "execution_count": 235,
      "id": "9e299cd9",
      "metadata": {
        "id": "9e299cd9"
      },
      "outputs": [],
      "source": [
        "regions = list(df.region.unique())"
      ]
    },
    {
      "cell_type": "code",
      "execution_count": 236,
      "id": "907ac06f",
      "metadata": {
        "colab": {
          "base_uri": "https://localhost:8080/"
        },
        "id": "907ac06f",
        "outputId": "84def1f3-3abe-4ed3-d48d-77cb7f362e33"
      },
      "outputs": [
        {
          "output_type": "execute_result",
          "data": {
            "text/plain": [
              "['Auvergne-Rhône-Alpes',\n",
              " 'Bourgogne-Franche-Comté',\n",
              " 'Bretagne',\n",
              " 'Centre-Val de Loire',\n",
              " 'Grand Est',\n",
              " 'Hauts-de-France',\n",
              " 'Normandie',\n",
              " 'Nouvelle-Aquitaine',\n",
              " 'Occitanie',\n",
              " 'Pays de la Loire',\n",
              " \"Provence-Alpes-Côte d'Azur\",\n",
              " 'Île-de-France']"
            ]
          },
          "metadata": {},
          "execution_count": 236
        }
      ],
      "source": [
        "regions"
      ]
    },
    {
      "cell_type": "code",
      "execution_count": 237,
      "id": "2e2704da",
      "metadata": {
        "colab": {
          "base_uri": "https://localhost:8080/",
          "height": 457
        },
        "id": "2e2704da",
        "outputId": "12522d63-624f-422b-ffc3-b91e99efb52b"
      },
      "outputs": [
        {
          "output_type": "execute_result",
          "data": {
            "text/plain": [
              "                            consumption\n",
              "region                                 \n",
              "Auvergne-Rhône-Alpes               7495\n",
              "Bourgogne-Franche-Comté            2416\n",
              "Bretagne                           2546\n",
              "Centre-Val de Loire                2139\n",
              "Grand Est                          5155\n",
              "Hauts-de-France                    5726\n",
              "Normandie                          3168\n",
              "Nouvelle-Aquitaine                 4925\n",
              "Occitanie                          4266\n",
              "Pays de la Loire                   3077\n",
              "Provence-Alpes-Côte d'Azur         4656\n",
              "Île-de-France                      8008"
            ],
            "text/html": [
              "\n",
              "  <div id=\"df-65d67d4a-df9b-49e2-bb2a-c532e12868be\" class=\"colab-df-container\">\n",
              "    <div>\n",
              "<style scoped>\n",
              "    .dataframe tbody tr th:only-of-type {\n",
              "        vertical-align: middle;\n",
              "    }\n",
              "\n",
              "    .dataframe tbody tr th {\n",
              "        vertical-align: top;\n",
              "    }\n",
              "\n",
              "    .dataframe thead th {\n",
              "        text-align: right;\n",
              "    }\n",
              "</style>\n",
              "<table border=\"1\" class=\"dataframe\">\n",
              "  <thead>\n",
              "    <tr style=\"text-align: right;\">\n",
              "      <th></th>\n",
              "      <th>consumption</th>\n",
              "    </tr>\n",
              "    <tr>\n",
              "      <th>region</th>\n",
              "      <th></th>\n",
              "    </tr>\n",
              "  </thead>\n",
              "  <tbody>\n",
              "    <tr>\n",
              "      <th>Auvergne-Rhône-Alpes</th>\n",
              "      <td>7495</td>\n",
              "    </tr>\n",
              "    <tr>\n",
              "      <th>Bourgogne-Franche-Comté</th>\n",
              "      <td>2416</td>\n",
              "    </tr>\n",
              "    <tr>\n",
              "      <th>Bretagne</th>\n",
              "      <td>2546</td>\n",
              "    </tr>\n",
              "    <tr>\n",
              "      <th>Centre-Val de Loire</th>\n",
              "      <td>2139</td>\n",
              "    </tr>\n",
              "    <tr>\n",
              "      <th>Grand Est</th>\n",
              "      <td>5155</td>\n",
              "    </tr>\n",
              "    <tr>\n",
              "      <th>Hauts-de-France</th>\n",
              "      <td>5726</td>\n",
              "    </tr>\n",
              "    <tr>\n",
              "      <th>Normandie</th>\n",
              "      <td>3168</td>\n",
              "    </tr>\n",
              "    <tr>\n",
              "      <th>Nouvelle-Aquitaine</th>\n",
              "      <td>4925</td>\n",
              "    </tr>\n",
              "    <tr>\n",
              "      <th>Occitanie</th>\n",
              "      <td>4266</td>\n",
              "    </tr>\n",
              "    <tr>\n",
              "      <th>Pays de la Loire</th>\n",
              "      <td>3077</td>\n",
              "    </tr>\n",
              "    <tr>\n",
              "      <th>Provence-Alpes-Côte d'Azur</th>\n",
              "      <td>4656</td>\n",
              "    </tr>\n",
              "    <tr>\n",
              "      <th>Île-de-France</th>\n",
              "      <td>8008</td>\n",
              "    </tr>\n",
              "  </tbody>\n",
              "</table>\n",
              "</div>\n",
              "    <div class=\"colab-df-buttons\">\n",
              "\n",
              "  <div class=\"colab-df-container\">\n",
              "    <button class=\"colab-df-convert\" onclick=\"convertToInteractive('df-65d67d4a-df9b-49e2-bb2a-c532e12868be')\"\n",
              "            title=\"Convert this dataframe to an interactive table.\"\n",
              "            style=\"display:none;\">\n",
              "\n",
              "  <svg xmlns=\"http://www.w3.org/2000/svg\" height=\"24px\" viewBox=\"0 -960 960 960\">\n",
              "    <path d=\"M120-120v-720h720v720H120Zm60-500h600v-160H180v160Zm220 220h160v-160H400v160Zm0 220h160v-160H400v160ZM180-400h160v-160H180v160Zm440 0h160v-160H620v160ZM180-180h160v-160H180v160Zm440 0h160v-160H620v160Z\"/>\n",
              "  </svg>\n",
              "    </button>\n",
              "\n",
              "  <style>\n",
              "    .colab-df-container {\n",
              "      display:flex;\n",
              "      gap: 12px;\n",
              "    }\n",
              "\n",
              "    .colab-df-convert {\n",
              "      background-color: #E8F0FE;\n",
              "      border: none;\n",
              "      border-radius: 50%;\n",
              "      cursor: pointer;\n",
              "      display: none;\n",
              "      fill: #1967D2;\n",
              "      height: 32px;\n",
              "      padding: 0 0 0 0;\n",
              "      width: 32px;\n",
              "    }\n",
              "\n",
              "    .colab-df-convert:hover {\n",
              "      background-color: #E2EBFA;\n",
              "      box-shadow: 0px 1px 2px rgba(60, 64, 67, 0.3), 0px 1px 3px 1px rgba(60, 64, 67, 0.15);\n",
              "      fill: #174EA6;\n",
              "    }\n",
              "\n",
              "    .colab-df-buttons div {\n",
              "      margin-bottom: 4px;\n",
              "    }\n",
              "\n",
              "    [theme=dark] .colab-df-convert {\n",
              "      background-color: #3B4455;\n",
              "      fill: #D2E3FC;\n",
              "    }\n",
              "\n",
              "    [theme=dark] .colab-df-convert:hover {\n",
              "      background-color: #434B5C;\n",
              "      box-shadow: 0px 1px 3px 1px rgba(0, 0, 0, 0.15);\n",
              "      filter: drop-shadow(0px 1px 2px rgba(0, 0, 0, 0.3));\n",
              "      fill: #FFFFFF;\n",
              "    }\n",
              "  </style>\n",
              "\n",
              "    <script>\n",
              "      const buttonEl =\n",
              "        document.querySelector('#df-65d67d4a-df9b-49e2-bb2a-c532e12868be button.colab-df-convert');\n",
              "      buttonEl.style.display =\n",
              "        google.colab.kernel.accessAllowed ? 'block' : 'none';\n",
              "\n",
              "      async function convertToInteractive(key) {\n",
              "        const element = document.querySelector('#df-65d67d4a-df9b-49e2-bb2a-c532e12868be');\n",
              "        const dataTable =\n",
              "          await google.colab.kernel.invokeFunction('convertToInteractive',\n",
              "                                                    [key], {});\n",
              "        if (!dataTable) return;\n",
              "\n",
              "        const docLinkHtml = 'Like what you see? Visit the ' +\n",
              "          '<a target=\"_blank\" href=https://colab.research.google.com/notebooks/data_table.ipynb>data table notebook</a>'\n",
              "          + ' to learn more about interactive tables.';\n",
              "        element.innerHTML = '';\n",
              "        dataTable['output_type'] = 'display_data';\n",
              "        await google.colab.output.renderOutput(dataTable, element);\n",
              "        const docLink = document.createElement('div');\n",
              "        docLink.innerHTML = docLinkHtml;\n",
              "        element.appendChild(docLink);\n",
              "      }\n",
              "    </script>\n",
              "  </div>\n",
              "\n",
              "\n",
              "<div id=\"df-d64d5561-5e34-4803-bc92-69830bac8974\">\n",
              "  <button class=\"colab-df-quickchart\" onclick=\"quickchart('df-d64d5561-5e34-4803-bc92-69830bac8974')\"\n",
              "            title=\"Suggest charts.\"\n",
              "            style=\"display:none;\">\n",
              "\n",
              "<svg xmlns=\"http://www.w3.org/2000/svg\" height=\"24px\"viewBox=\"0 0 24 24\"\n",
              "     width=\"24px\">\n",
              "    <g>\n",
              "        <path d=\"M19 3H5c-1.1 0-2 .9-2 2v14c0 1.1.9 2 2 2h14c1.1 0 2-.9 2-2V5c0-1.1-.9-2-2-2zM9 17H7v-7h2v7zm4 0h-2V7h2v10zm4 0h-2v-4h2v4z\"/>\n",
              "    </g>\n",
              "</svg>\n",
              "  </button>\n",
              "\n",
              "<style>\n",
              "  .colab-df-quickchart {\n",
              "      --bg-color: #E8F0FE;\n",
              "      --fill-color: #1967D2;\n",
              "      --hover-bg-color: #E2EBFA;\n",
              "      --hover-fill-color: #174EA6;\n",
              "      --disabled-fill-color: #AAA;\n",
              "      --disabled-bg-color: #DDD;\n",
              "  }\n",
              "\n",
              "  [theme=dark] .colab-df-quickchart {\n",
              "      --bg-color: #3B4455;\n",
              "      --fill-color: #D2E3FC;\n",
              "      --hover-bg-color: #434B5C;\n",
              "      --hover-fill-color: #FFFFFF;\n",
              "      --disabled-bg-color: #3B4455;\n",
              "      --disabled-fill-color: #666;\n",
              "  }\n",
              "\n",
              "  .colab-df-quickchart {\n",
              "    background-color: var(--bg-color);\n",
              "    border: none;\n",
              "    border-radius: 50%;\n",
              "    cursor: pointer;\n",
              "    display: none;\n",
              "    fill: var(--fill-color);\n",
              "    height: 32px;\n",
              "    padding: 0;\n",
              "    width: 32px;\n",
              "  }\n",
              "\n",
              "  .colab-df-quickchart:hover {\n",
              "    background-color: var(--hover-bg-color);\n",
              "    box-shadow: 0 1px 2px rgba(60, 64, 67, 0.3), 0 1px 3px 1px rgba(60, 64, 67, 0.15);\n",
              "    fill: var(--button-hover-fill-color);\n",
              "  }\n",
              "\n",
              "  .colab-df-quickchart-complete:disabled,\n",
              "  .colab-df-quickchart-complete:disabled:hover {\n",
              "    background-color: var(--disabled-bg-color);\n",
              "    fill: var(--disabled-fill-color);\n",
              "    box-shadow: none;\n",
              "  }\n",
              "\n",
              "  .colab-df-spinner {\n",
              "    border: 2px solid var(--fill-color);\n",
              "    border-color: transparent;\n",
              "    border-bottom-color: var(--fill-color);\n",
              "    animation:\n",
              "      spin 1s steps(1) infinite;\n",
              "  }\n",
              "\n",
              "  @keyframes spin {\n",
              "    0% {\n",
              "      border-color: transparent;\n",
              "      border-bottom-color: var(--fill-color);\n",
              "      border-left-color: var(--fill-color);\n",
              "    }\n",
              "    20% {\n",
              "      border-color: transparent;\n",
              "      border-left-color: var(--fill-color);\n",
              "      border-top-color: var(--fill-color);\n",
              "    }\n",
              "    30% {\n",
              "      border-color: transparent;\n",
              "      border-left-color: var(--fill-color);\n",
              "      border-top-color: var(--fill-color);\n",
              "      border-right-color: var(--fill-color);\n",
              "    }\n",
              "    40% {\n",
              "      border-color: transparent;\n",
              "      border-right-color: var(--fill-color);\n",
              "      border-top-color: var(--fill-color);\n",
              "    }\n",
              "    60% {\n",
              "      border-color: transparent;\n",
              "      border-right-color: var(--fill-color);\n",
              "    }\n",
              "    80% {\n",
              "      border-color: transparent;\n",
              "      border-right-color: var(--fill-color);\n",
              "      border-bottom-color: var(--fill-color);\n",
              "    }\n",
              "    90% {\n",
              "      border-color: transparent;\n",
              "      border-bottom-color: var(--fill-color);\n",
              "    }\n",
              "  }\n",
              "</style>\n",
              "\n",
              "  <script>\n",
              "    async function quickchart(key) {\n",
              "      const quickchartButtonEl =\n",
              "        document.querySelector('#' + key + ' button');\n",
              "      quickchartButtonEl.disabled = true;  // To prevent multiple clicks.\n",
              "      quickchartButtonEl.classList.add('colab-df-spinner');\n",
              "      try {\n",
              "        const charts = await google.colab.kernel.invokeFunction(\n",
              "            'suggestCharts', [key], {});\n",
              "      } catch (error) {\n",
              "        console.error('Error during call to suggestCharts:', error);\n",
              "      }\n",
              "      quickchartButtonEl.classList.remove('colab-df-spinner');\n",
              "      quickchartButtonEl.classList.add('colab-df-quickchart-complete');\n",
              "    }\n",
              "    (() => {\n",
              "      let quickchartButtonEl =\n",
              "        document.querySelector('#df-d64d5561-5e34-4803-bc92-69830bac8974 button');\n",
              "      quickchartButtonEl.style.display =\n",
              "        google.colab.kernel.accessAllowed ? 'block' : 'none';\n",
              "    })();\n",
              "  </script>\n",
              "</div>\n",
              "    </div>\n",
              "  </div>\n"
            ]
          },
          "metadata": {},
          "execution_count": 237
        }
      ],
      "source": [
        "# average consumption per region\n",
        "df[[\"region\", \"consumption\"]].groupby(\"region\").mean().astype(int)"
      ]
    },
    {
      "cell_type": "code",
      "execution_count": 238,
      "id": "3ed15bbc",
      "metadata": {
        "colab": {
          "base_uri": "https://localhost:8080/"
        },
        "id": "3ed15bbc",
        "outputId": "03b23012-0f3c-4e39-8e34-0d17e96c5e42"
      },
      "outputs": [
        {
          "output_type": "execute_result",
          "data": {
            "text/plain": [
              "consumption    53582\n",
              "dtype: int64"
            ]
          },
          "metadata": {},
          "execution_count": 238
        }
      ],
      "source": [
        "# average consumption in France (MW)\n",
        "df[[\"region\", \"consumption\"]].groupby(\"region\").mean().sum().astype(int)"
      ]
    },
    {
      "cell_type": "code",
      "execution_count": 239,
      "id": "2ebdd086",
      "metadata": {
        "id": "2ebdd086"
      },
      "outputs": [],
      "source": [
        "# selection of a region\n",
        "region = \"Bretagne\"\n",
        "df_region = df[df.region == region]"
      ]
    },
    {
      "cell_type": "code",
      "execution_count": 240,
      "id": "13665fc4",
      "metadata": {
        "colab": {
          "base_uri": "https://localhost:8080/",
          "height": 206
        },
        "id": "13665fc4",
        "outputId": "6384a963-33f7-40ff-d308-f402a6524f1b"
      },
      "outputs": [
        {
          "output_type": "execute_result",
          "data": {
            "text/plain": [
              "        region        date  consumption\n",
              "7606  Bretagne  2013-01-01         2595\n",
              "7607  Bretagne  2013-01-02         3195\n",
              "7608  Bretagne  2013-01-03         3157\n",
              "7609  Bretagne  2013-01-04         3142\n",
              "7610  Bretagne  2013-01-05         2859"
            ],
            "text/html": [
              "\n",
              "  <div id=\"df-b88ec638-1b68-4aa4-9e5b-934a9a04ddc4\" class=\"colab-df-container\">\n",
              "    <div>\n",
              "<style scoped>\n",
              "    .dataframe tbody tr th:only-of-type {\n",
              "        vertical-align: middle;\n",
              "    }\n",
              "\n",
              "    .dataframe tbody tr th {\n",
              "        vertical-align: top;\n",
              "    }\n",
              "\n",
              "    .dataframe thead th {\n",
              "        text-align: right;\n",
              "    }\n",
              "</style>\n",
              "<table border=\"1\" class=\"dataframe\">\n",
              "  <thead>\n",
              "    <tr style=\"text-align: right;\">\n",
              "      <th></th>\n",
              "      <th>region</th>\n",
              "      <th>date</th>\n",
              "      <th>consumption</th>\n",
              "    </tr>\n",
              "  </thead>\n",
              "  <tbody>\n",
              "    <tr>\n",
              "      <th>7606</th>\n",
              "      <td>Bretagne</td>\n",
              "      <td>2013-01-01</td>\n",
              "      <td>2595</td>\n",
              "    </tr>\n",
              "    <tr>\n",
              "      <th>7607</th>\n",
              "      <td>Bretagne</td>\n",
              "      <td>2013-01-02</td>\n",
              "      <td>3195</td>\n",
              "    </tr>\n",
              "    <tr>\n",
              "      <th>7608</th>\n",
              "      <td>Bretagne</td>\n",
              "      <td>2013-01-03</td>\n",
              "      <td>3157</td>\n",
              "    </tr>\n",
              "    <tr>\n",
              "      <th>7609</th>\n",
              "      <td>Bretagne</td>\n",
              "      <td>2013-01-04</td>\n",
              "      <td>3142</td>\n",
              "    </tr>\n",
              "    <tr>\n",
              "      <th>7610</th>\n",
              "      <td>Bretagne</td>\n",
              "      <td>2013-01-05</td>\n",
              "      <td>2859</td>\n",
              "    </tr>\n",
              "  </tbody>\n",
              "</table>\n",
              "</div>\n",
              "    <div class=\"colab-df-buttons\">\n",
              "\n",
              "  <div class=\"colab-df-container\">\n",
              "    <button class=\"colab-df-convert\" onclick=\"convertToInteractive('df-b88ec638-1b68-4aa4-9e5b-934a9a04ddc4')\"\n",
              "            title=\"Convert this dataframe to an interactive table.\"\n",
              "            style=\"display:none;\">\n",
              "\n",
              "  <svg xmlns=\"http://www.w3.org/2000/svg\" height=\"24px\" viewBox=\"0 -960 960 960\">\n",
              "    <path d=\"M120-120v-720h720v720H120Zm60-500h600v-160H180v160Zm220 220h160v-160H400v160Zm0 220h160v-160H400v160ZM180-400h160v-160H180v160Zm440 0h160v-160H620v160ZM180-180h160v-160H180v160Zm440 0h160v-160H620v160Z\"/>\n",
              "  </svg>\n",
              "    </button>\n",
              "\n",
              "  <style>\n",
              "    .colab-df-container {\n",
              "      display:flex;\n",
              "      gap: 12px;\n",
              "    }\n",
              "\n",
              "    .colab-df-convert {\n",
              "      background-color: #E8F0FE;\n",
              "      border: none;\n",
              "      border-radius: 50%;\n",
              "      cursor: pointer;\n",
              "      display: none;\n",
              "      fill: #1967D2;\n",
              "      height: 32px;\n",
              "      padding: 0 0 0 0;\n",
              "      width: 32px;\n",
              "    }\n",
              "\n",
              "    .colab-df-convert:hover {\n",
              "      background-color: #E2EBFA;\n",
              "      box-shadow: 0px 1px 2px rgba(60, 64, 67, 0.3), 0px 1px 3px 1px rgba(60, 64, 67, 0.15);\n",
              "      fill: #174EA6;\n",
              "    }\n",
              "\n",
              "    .colab-df-buttons div {\n",
              "      margin-bottom: 4px;\n",
              "    }\n",
              "\n",
              "    [theme=dark] .colab-df-convert {\n",
              "      background-color: #3B4455;\n",
              "      fill: #D2E3FC;\n",
              "    }\n",
              "\n",
              "    [theme=dark] .colab-df-convert:hover {\n",
              "      background-color: #434B5C;\n",
              "      box-shadow: 0px 1px 3px 1px rgba(0, 0, 0, 0.15);\n",
              "      filter: drop-shadow(0px 1px 2px rgba(0, 0, 0, 0.3));\n",
              "      fill: #FFFFFF;\n",
              "    }\n",
              "  </style>\n",
              "\n",
              "    <script>\n",
              "      const buttonEl =\n",
              "        document.querySelector('#df-b88ec638-1b68-4aa4-9e5b-934a9a04ddc4 button.colab-df-convert');\n",
              "      buttonEl.style.display =\n",
              "        google.colab.kernel.accessAllowed ? 'block' : 'none';\n",
              "\n",
              "      async function convertToInteractive(key) {\n",
              "        const element = document.querySelector('#df-b88ec638-1b68-4aa4-9e5b-934a9a04ddc4');\n",
              "        const dataTable =\n",
              "          await google.colab.kernel.invokeFunction('convertToInteractive',\n",
              "                                                    [key], {});\n",
              "        if (!dataTable) return;\n",
              "\n",
              "        const docLinkHtml = 'Like what you see? Visit the ' +\n",
              "          '<a target=\"_blank\" href=https://colab.research.google.com/notebooks/data_table.ipynb>data table notebook</a>'\n",
              "          + ' to learn more about interactive tables.';\n",
              "        element.innerHTML = '';\n",
              "        dataTable['output_type'] = 'display_data';\n",
              "        await google.colab.output.renderOutput(dataTable, element);\n",
              "        const docLink = document.createElement('div');\n",
              "        docLink.innerHTML = docLinkHtml;\n",
              "        element.appendChild(docLink);\n",
              "      }\n",
              "    </script>\n",
              "  </div>\n",
              "\n",
              "\n",
              "<div id=\"df-d12a7b3f-c23f-45dd-a564-66c9eeddaf77\">\n",
              "  <button class=\"colab-df-quickchart\" onclick=\"quickchart('df-d12a7b3f-c23f-45dd-a564-66c9eeddaf77')\"\n",
              "            title=\"Suggest charts.\"\n",
              "            style=\"display:none;\">\n",
              "\n",
              "<svg xmlns=\"http://www.w3.org/2000/svg\" height=\"24px\"viewBox=\"0 0 24 24\"\n",
              "     width=\"24px\">\n",
              "    <g>\n",
              "        <path d=\"M19 3H5c-1.1 0-2 .9-2 2v14c0 1.1.9 2 2 2h14c1.1 0 2-.9 2-2V5c0-1.1-.9-2-2-2zM9 17H7v-7h2v7zm4 0h-2V7h2v10zm4 0h-2v-4h2v4z\"/>\n",
              "    </g>\n",
              "</svg>\n",
              "  </button>\n",
              "\n",
              "<style>\n",
              "  .colab-df-quickchart {\n",
              "      --bg-color: #E8F0FE;\n",
              "      --fill-color: #1967D2;\n",
              "      --hover-bg-color: #E2EBFA;\n",
              "      --hover-fill-color: #174EA6;\n",
              "      --disabled-fill-color: #AAA;\n",
              "      --disabled-bg-color: #DDD;\n",
              "  }\n",
              "\n",
              "  [theme=dark] .colab-df-quickchart {\n",
              "      --bg-color: #3B4455;\n",
              "      --fill-color: #D2E3FC;\n",
              "      --hover-bg-color: #434B5C;\n",
              "      --hover-fill-color: #FFFFFF;\n",
              "      --disabled-bg-color: #3B4455;\n",
              "      --disabled-fill-color: #666;\n",
              "  }\n",
              "\n",
              "  .colab-df-quickchart {\n",
              "    background-color: var(--bg-color);\n",
              "    border: none;\n",
              "    border-radius: 50%;\n",
              "    cursor: pointer;\n",
              "    display: none;\n",
              "    fill: var(--fill-color);\n",
              "    height: 32px;\n",
              "    padding: 0;\n",
              "    width: 32px;\n",
              "  }\n",
              "\n",
              "  .colab-df-quickchart:hover {\n",
              "    background-color: var(--hover-bg-color);\n",
              "    box-shadow: 0 1px 2px rgba(60, 64, 67, 0.3), 0 1px 3px 1px rgba(60, 64, 67, 0.15);\n",
              "    fill: var(--button-hover-fill-color);\n",
              "  }\n",
              "\n",
              "  .colab-df-quickchart-complete:disabled,\n",
              "  .colab-df-quickchart-complete:disabled:hover {\n",
              "    background-color: var(--disabled-bg-color);\n",
              "    fill: var(--disabled-fill-color);\n",
              "    box-shadow: none;\n",
              "  }\n",
              "\n",
              "  .colab-df-spinner {\n",
              "    border: 2px solid var(--fill-color);\n",
              "    border-color: transparent;\n",
              "    border-bottom-color: var(--fill-color);\n",
              "    animation:\n",
              "      spin 1s steps(1) infinite;\n",
              "  }\n",
              "\n",
              "  @keyframes spin {\n",
              "    0% {\n",
              "      border-color: transparent;\n",
              "      border-bottom-color: var(--fill-color);\n",
              "      border-left-color: var(--fill-color);\n",
              "    }\n",
              "    20% {\n",
              "      border-color: transparent;\n",
              "      border-left-color: var(--fill-color);\n",
              "      border-top-color: var(--fill-color);\n",
              "    }\n",
              "    30% {\n",
              "      border-color: transparent;\n",
              "      border-left-color: var(--fill-color);\n",
              "      border-top-color: var(--fill-color);\n",
              "      border-right-color: var(--fill-color);\n",
              "    }\n",
              "    40% {\n",
              "      border-color: transparent;\n",
              "      border-right-color: var(--fill-color);\n",
              "      border-top-color: var(--fill-color);\n",
              "    }\n",
              "    60% {\n",
              "      border-color: transparent;\n",
              "      border-right-color: var(--fill-color);\n",
              "    }\n",
              "    80% {\n",
              "      border-color: transparent;\n",
              "      border-right-color: var(--fill-color);\n",
              "      border-bottom-color: var(--fill-color);\n",
              "    }\n",
              "    90% {\n",
              "      border-color: transparent;\n",
              "      border-bottom-color: var(--fill-color);\n",
              "    }\n",
              "  }\n",
              "</style>\n",
              "\n",
              "  <script>\n",
              "    async function quickchart(key) {\n",
              "      const quickchartButtonEl =\n",
              "        document.querySelector('#' + key + ' button');\n",
              "      quickchartButtonEl.disabled = true;  // To prevent multiple clicks.\n",
              "      quickchartButtonEl.classList.add('colab-df-spinner');\n",
              "      try {\n",
              "        const charts = await google.colab.kernel.invokeFunction(\n",
              "            'suggestCharts', [key], {});\n",
              "      } catch (error) {\n",
              "        console.error('Error during call to suggestCharts:', error);\n",
              "      }\n",
              "      quickchartButtonEl.classList.remove('colab-df-spinner');\n",
              "      quickchartButtonEl.classList.add('colab-df-quickchart-complete');\n",
              "    }\n",
              "    (() => {\n",
              "      let quickchartButtonEl =\n",
              "        document.querySelector('#df-d12a7b3f-c23f-45dd-a564-66c9eeddaf77 button');\n",
              "      quickchartButtonEl.style.display =\n",
              "        google.colab.kernel.accessAllowed ? 'block' : 'none';\n",
              "    })();\n",
              "  </script>\n",
              "</div>\n",
              "    </div>\n",
              "  </div>\n"
            ]
          },
          "metadata": {},
          "execution_count": 240
        }
      ],
      "source": [
        "df_region.head()"
      ]
    },
    {
      "cell_type": "code",
      "execution_count": 241,
      "id": "bbb87de5",
      "metadata": {
        "colab": {
          "base_uri": "https://localhost:8080/",
          "height": 472
        },
        "id": "bbb87de5",
        "outputId": "fab81ad2-5a97-4680-dfe1-22fd25975547"
      },
      "outputs": [
        {
          "output_type": "display_data",
          "data": {
            "text/plain": [
              "<Figure size 640x480 with 1 Axes>"
            ],
            "image/png": "[encoded data removed]"
          },
          "metadata": {}
        }
      ],
      "source": [
        "# density (with kde = kernel density estimation)\n",
        "sns.kdeplot(data=df_region, x=\"consumption\", label=\"Data\", color='blue', fill=True)\n",
        "plt.title(region)\n",
        "plt.xlabel(\"Consumption (MW)\")\n",
        "plt.legend()\n",
        "plt.show()"
      ]
    },
    {
      "cell_type": "markdown",
      "id": "045ae627",
      "metadata": {
        "id": "045ae627"
      },
      "source": [
        "## A. Estimation ponctuelle"
      ]
    },
    {
      "cell_type": "markdown",
      "id": "99972e6a",
      "metadata": {
        "id": "99972e6a"
      },
      "source": [
        "Dans l'entité du projet, consomation quotidienne d'electricité est supposée i.i.d., avec la distribution gaussienne.\n",
        "\n",
        "Nous allons utiliser les estimateurs suivants pour la moyenne et la variance, pour $n$ observations $x_1,\\ldots,x_n$ :\n",
        "$$\n",
        "\\hat \\mu = \\frac 1 n \\sum_{i=1}^n x_i\\quad \\hat{\\sigma^2} = \\frac 1 {n-1}\\sum_{i=1}^n (x_i - \\hat \\mu)^2\n",
        "$$\n",
        "L'estimateur correspondant de l'écart-type est :\n",
        "$$\n",
        "\\hat \\sigma = \\sqrt{\\hat{\\sigma^2}}\n",
        "$$\n",
        "\n",
        "Considérons la region Bretagne.\n",
        "\n",
        "1. Montrez que les estimateur pour la moyenne et la variance sont sans biais."
      ]
    },
    {
      "cell_type": "markdown",
      "id": "fc43c835",
      "metadata": {
        "id": "fc43c835"
      },
      "source": [
        "Votre réponse :\n",
        "\n",
        "On a:\n",
        "$$\n",
        "b(\\mu,\\hat \\mu)=\\mathbb{E}(\\hat \\mu - \\mu) = \\mathbb{E}(\\frac 1 n \\sum_{i=1}^n x_i -\\mu)=\\frac 1 n \\sum_{i=1}^n \\mathbb{E}( x_i) - \\mathbb{E}(\\mu)= \\frac 1 n \\sum_{i=1}^n \\mu - \\mu = \\frac 1 n n \\mu - \\mu = 0\n",
        "$$\n",
        "Donc l'estimateur pour la moyenne est sans biais.\n",
        "\n",
        "$$\n",
        "b(\\sigma^2,\\hat{\\sigma}^2)=\\mathbb{E}(\\hat{\\sigma}^2-\\sigma^2)= \\mathbb{E}(\\frac 1 {n-1}\\sum_{i=1}^n (x_i - \\hat \\mu)^2-\\sigma^2)=\\frac 1 {n-1} \\sum_{i=1}^n \\mathbb{E}( (x_i - \\hat \\mu)^2) - \\mathbb{E}({\\sigma}^2)=\\frac 1 {n-1} \\sum_{i=1}^n \\mathbb{E}({x_i}^2 + 2x_i\\hat \\mu +{\\hat \\mu}^2 ) - {\\sigma}^2= \\frac 1 {n-1} \\sum_{i=1}^n \\Big(\\mathbb{E}({x_i}^2) - 2\\mathbb{E}(x_i\\hat \\mu) +\\mathbb{E}({\\hat \\mu}^2)\\Big) - {\\sigma}^2=\\frac 1 {n-1} \\sum_{i=1}^n \\Big(\\mathbb{E}({x_i}^2) - 2\\mathbb{E}(x_i\\frac 1 n \\sum_{j=1}^n x_j) +\\mathbb{E}({\\hat \\mu}^2)\\Big) - {\\sigma}^2\n",
        "$$\n",
        "\n",
        "Comme les n observations  $x_1,…,x_n$ sond $i.i.d$, alors $ \\space\\mathbb{E}(x_ix_j)=\\mathbb{E}(x_i)\\mathbb{E}(x_j) \\space \\forall i\\neq j$ et on a :\n",
        "\n",
        "$$\n",
        "\\mathbb{E}(x_i\\frac 1 n \\sum_{j=1}^n x_j)= \\frac {n-1}n\\mathbb{E}(x_i)^2+\\frac {1}n\\mathbb{E}(x_i^2)=\\mu^2+\\frac {1}n\\sigma^2\n",
        "$$\n",
        "\n",
        "et\n",
        "$$\n",
        "b(\\sigma^2,\\hat{\\sigma}^2)=\\frac 1 {n-1} \\sum_{i=1}^n \\Big(\\mathbb{E}({x_i}^2) - 2(\\mu^2+\\frac {1}n\\sigma^2) +\\mathbb{E}({\\hat \\mu}^2)\\Big) - {\\sigma}^2=\\frac 1 {n-1} \\sum_{i=1}^n \\Big(\\sigma^2 +\\mu^2  - 2(\\mu^2+\\frac {1}n\\sigma^2) +\\mathbb{E}({\\hat \\mu}^2)\\Big) - {\\sigma}^2\n",
        "$$\n",
        "et comme: $\n",
        "\\mathbb{E}({\\hat \\mu}^2)= \\frac 1 {n^2}\\sum_{i=1}^n\\sum_{k=1}^n \\mathbb{E}(x_i,x_j)=\\frac 1 {n^2}\\sum_{j=1}^n\\Big((n-1)\\mu^2+\\sigma^2+\\mu^2\\Big)=\\frac 1 {n^2}\\Big(n\\mu^2+n\\sigma^2\\Big)=\\mu^2+\\frac 1 {n}\\sigma^2\n",
        "$\n",
        "\n",
        "\n",
        "Donc:\n",
        "$$\n",
        "b(\\sigma^2,\\hat{\\sigma}^2)=\\frac 1 {n-1} \\sum_{i=1}^n \\Big(\\sigma^2 +\\mu^2  - 2(\\mu^2+\\frac {1}n\\sigma^2) +\\mu^2+\\frac 1 {n}\\sigma^2\\Big) - {\\sigma}^2=\\frac n {n-1}\\Big(\\sigma^2 +\\mu^2  - 2(\\mu^2+\\frac {1}n\\sigma^2) +\\mu^2+\\frac 1 {n}\\sigma^2\\Big) - {\\sigma}^2=\\frac n {n-1}\\Big(\\sigma^2 -\\frac {1}n\\sigma^2\\Big) - {\\sigma}^2=\\frac n {n-1}\\frac {n-1}n \\sigma^2- {\\sigma}^2= \\sigma^2- {\\sigma}^2=0\n",
        "$$\n",
        "Ainsi l'estimateur pour la variance est sans biais."
      ]
    },
    {
      "cell_type": "markdown",
      "id": "259c0fed",
      "metadata": {
        "id": "259c0fed"
      },
      "source": [
        "2. Donnez les valeurs obtenues pour la moyen et pour la variance en utilisant ces estimateurs."
      ]
    },
    {
      "cell_type": "code",
      "execution_count": 242,
      "id": "d51c8554",
      "metadata": {
        "colab": {
          "base_uri": "https://localhost:8080/"
        },
        "id": "d51c8554",
        "outputId": "4c423425-9aaa-415f-ee08-0582e66d3cb5"
      },
      "outputs": [
        {
          "output_type": "stream",
          "name": "stdout",
          "text": [
            "la moyenne empirique est   2546.536155666579 \n",
            " la variance empirique non biaisé est  365956.0141448174 \n",
            " et l'ecart type empirique non biasé est  604.9429842099315\n"
          ]
        }
      ],
      "source": [
        "#la moyenne empirique\n",
        "moy_estimateur=df_region.consumption.mean()\n",
        "#la variance empirique\n",
        "var_estimateur=df_region.consumption.var(ddof=1)# ddof = 1 pour que la variance soit non biaisée.\n",
        "#Affichage des résultats\n",
        "print(\"la moyenne empirique est  \",moy_estimateur, '\\n la variance empirique non biaisé est ', var_estimateur,\n",
        "      \"\\n et l'ecart type empirique non biasé est \",np.sqrt(var_estimateur))\n"
      ]
    },
    {
      "cell_type": "markdown",
      "id": "d0c9e4bf",
      "metadata": {
        "id": "d0c9e4bf"
      },
      "source": [
        "3. Générez les nouvelles données en utilisant le modèle gaussien avec ces estimateurs, et avec le même nombre d'observations."
      ]
    },
    {
      "cell_type": "code",
      "execution_count": 243,
      "id": "baedf3c5",
      "metadata": {
        "colab": {
          "base_uri": "https://localhost:8080/"
        },
        "id": "baedf3c5",
        "outputId": "7d3c7093-7de3-42c1-b6fe-9e8d646852e0"
      },
      "outputs": [
        {
          "output_type": "execute_result",
          "data": {
            "text/plain": [
              "array([2314.72585386, 2990.13363472, 2428.04828017, 2281.9729384 ,\n",
              "       2672.78691362])"
            ]
          },
          "metadata": {},
          "execution_count": 243
        }
      ],
      "source": [
        "n_observations = df_region.shape[0]#nombre d'observations\n",
        "#nouvelles données générées en utilisant le modèle gaussien\n",
        "nouv_data = np.random.normal(moy_estimateur, np.sqrt(var_estimateur), n_observations)\n",
        "print(nouv_data)\n"
      ]
    },
    {
      "cell_type": "markdown",
      "id": "87a6506c",
      "metadata": {
        "id": "87a6506c"
      },
      "source": [
        "4. Tracez l'estimateur à noyau de la densité  *kde* (kernel density estimate) des données réelles et des données générées sur la même figure."
      ]
    },
    {
      "cell_type": "code",
      "source": [
        "#Transformer les nouvelles données générées en DataFrame\n",
        "nouv_df = pd.DataFrame(nouv_data, columns = ['consumption'])"
      ],
      "metadata": {
        "id": "qBkEX1vSpWxf"
      },
      "id": "qBkEX1vSpWxf",
      "execution_count": 244,
      "outputs": []
    },
    {
      "cell_type": "code",
      "execution_count": 245,
      "id": "4bfd9db4",
      "metadata": {
        "colab": {
          "base_uri": "https://localhost:8080/",
          "height": 472
        },
        "id": "4bfd9db4",
        "outputId": "8c2f7a92-4e76-46fe-ef71-fe858c6dbc5f"
      },
      "outputs": [
        {
          "output_type": "display_data",
          "data": {
            "text/plain": [
              "<Figure size 640x480 with 1 Axes>"
            ],
            "image/png": "[encoded data removed]"
          },
          "metadata": {}
        }
      ],
      "source": [
        "sns.kdeplot(data=nouv_df, x=\"consumption\", label=\"données générés\", color='red', fill=True)# Estimation et traçage de la kde des données générées\n",
        "sns.kdeplot(data=df_region, x=\"consumption\", label=\"fonnées réelles\", color='blue', fill=True)# Estimation et traçage de la kde des données réelles\n",
        "plt.title(region)#Ajout d'un titre pour la figure\n",
        "plt.xlabel(\"Consommation (MW)\")#On Nomme l'axe des abscisses\n",
        "#Affichage de la figure avec la legend\n",
        "plt.legend()\n",
        "plt.show()"
      ]
    },
    {
      "cell_type": "markdown",
      "id": "fc054c89",
      "metadata": {
        "id": "fc054c89"
      },
      "source": [
        "5. Répétez la même procédure pour les jours d'hiver (du 22/12 au 21/03), après avoir mis à jour le modèle."
      ]
    },
    {
      "cell_type": "code",
      "source": [
        "#On définit une fonction pour l'extraction des données hivernales en une région dont la valeur est passée en paramètre.\n",
        "def donnees_region_en_hiver(df_region):\n",
        "  Date=pd.to_datetime(df_region['date']) # Transformation des dates de format chaine  de charactère en format datetime.\n",
        "  df_sans_date=df_region.drop('date', axis=1)\n",
        "  df_region1=pd.concat([df_sans_date, Date], axis=1)\n",
        "  df_region_hiver=df_region1[((df_region1['date'].dt.month == 12) & (df_region1['date'].dt.day >= 22)) |\n",
        "  (df_region1['date'].dt.month.isin([1, 2]))\n",
        "      |(df_region1['date'].dt.month == 3) &(df_region1['date'].dt.day<=21)]\n",
        "  return df_region_hiver"
      ],
      "metadata": {
        "id": "y9b7NoW2RNZd"
      },
      "id": "y9b7NoW2RNZd",
      "execution_count": 246,
      "outputs": []
    },
    {
      "cell_type": "code",
      "source": [
        "df_region_hiver=donnees_region_en_hiver(df_region)#Extraction des données hivernales en Bretagne.\n",
        "\n",
        "\n",
        "moy_estimateur_hiver=df_region_hiver.consumption.mean()#Moyenne empirique des données hivernales en Bretagne.\n",
        "\n",
        "var_estimateur_hiver=df_region_hiver.consumption.var(ddof=1)#Variance empirique des données hivernales en Bretagne.\n",
        "\n",
        "n_observations_hiver = df_region_hiver.shape[0]\n",
        "nouv_data_hiver = np.random.normal(moy_estimateur_hiver, np.sqrt(var_estimateur_hiver), n_observations_hiver)#nouvelles données générées pour hiver\n",
        "nouv_df_hiver = pd.DataFrame(nouv_data_hiver, columns = ['consumption'])\n",
        "\n",
        "sns.kdeplot(data=nouv_df_hiver, x=\"consumption\", label=\"données générés hiver\", color='red', fill=True)# Estimation et traçage de la kde des données générées\n",
        "sns.kdeplot(data=df_region_hiver, x=\"consumption\", label=\"données réelles\", color='blue', fill=True)# Estimation et traçage de la kde des données réelles\n",
        "plt.title(region +' en hiver')\n",
        "plt.xlabel(\"Consumption (MW)\")\n",
        "plt.legend()\n",
        "plt.show()"
      ],
      "metadata": {
        "colab": {
          "base_uri": "https://localhost:8080/",
          "height": 472
        },
        "id": "qPV6XLxwyFUa",
        "outputId": "b257b22f-8597-4413-c957-271987466a5a"
      },
      "id": "qPV6XLxwyFUa",
      "execution_count": 247,
      "outputs": [
        {
          "output_type": "display_data",
          "data": {
            "text/plain": [
              "<Figure size 640x480 with 1 Axes>"
            ],
            "image/png": "[encoded data removed]"
          },
          "metadata": {}
        }
      ]
    },
    {
      "cell_type": "markdown",
      "id": "2c341977",
      "metadata": {
        "id": "2c341977"
      },
      "source": [
        "6. Dans quel des cas l'hypothèse gaussienne est plus appropriée ?"
      ]
    },
    {
      "cell_type": "markdown",
      "source": [
        "Compte tenu des différences de forme observées dans les deux distributions, on remarque que l'hypothèse d'une distribution gaussienne semble être plus appropriée aux données de l'hiver en Bretagne (deuxième cas) que pour l'ensemble des données (premier cas)."
      ],
      "metadata": {
        "id": "qANHrudD8sRy"
      },
      "id": "qANHrudD8sRy"
    },
    {
      "cell_type": "markdown",
      "id": "3b396ff6",
      "metadata": {
        "id": "3b396ff6"
      },
      "source": [
        "## B. Goodness of fit"
      ]
    },
    {
      "cell_type": "markdown",
      "id": "b5d39610",
      "metadata": {
        "id": "b5d39610"
      },
      "source": [
        "On souhaite confirmer et quantifier l'observation de la partie A.\n",
        "\n",
        "Nous proposons la mesure de dissimilarité suivante, qui se base sur deux fonctionnes de répartitions $f$ et $g$:\n",
        "$$\n",
        "d(f, g) = \\frac 1 2 \\int |f(x) - g(x)| \\mathrm dx.\n",
        "$$"
      ]
    },
    {
      "cell_type": "markdown",
      "id": "87b5684d",
      "metadata": {
        "id": "87b5684d"
      },
      "source": [
        "1. Montrez que $d(f,g) \\in [0,1]$, avec $d(f,g)=0$ si et seulement si $f=g$ presque partout (pour la mesure de Lebesgue) et $d(f,g)=1$ si et seulement si $f$ et $g$ possèdent des supports disjoints."
      ]
    },
    {
      "cell_type": "markdown",
      "id": "397f4544",
      "metadata": {
        "id": "397f4544"
      },
      "source": [
        "Votre réponse :\n",
        "\n",
        "$i)\\forall x \\in \\chi, |f(x) - g(x)| \\geq 0 $ alors\n",
        "$$\n",
        "d(f, g) = \\frac 1 2 \\int |f(x) - g(x)|\\mathrm dx \\geq 0\n",
        "$$\n",
        "On a aussi,\n",
        "$$\n",
        "d(f, g) = \\frac 1 2 \\int |f(x) - g(x)| \\mathrm dx \\leq \\frac 1 2 \\int (|f(x)| + |g(x)|) \\mathrm dx\n",
        "$$\n",
        "et comme $\\forall x \\in \\chi,f(x) \\geq 0 \\space et \\space g(x) \\geq 0 $ alors:\n",
        "$$\n",
        "d(f, g) \\leq \\frac 1 2 \\int f(x)\\mathrm dx + \\frac 1 2\\int g(x) \\mathrm dx \\leq \\frac 1 2 + \\frac 1 2  = 1\n",
        "$$\n",
        "D'où le résultat:   $d(f,g) \\in [0,1]$ .\n",
        "\n",
        "$ii)$ Commencant par montrer le premier sens:  $d(f,g)=0$ alors $ f=g$  presque partout (pour la mesure de Lebesgue)\n",
        "\n",
        "Comme On a $d(f,g)=0$ et $\\forall x \\in \\chi, |f(x) - g(x)| \\geq 0 $ alors $|f(x) - g(x)| = 0 $ presque partout et donc on a alors $f(x) = g(x) $ presque partout d'où le résultat.\n",
        "\n",
        "On montre maintenant le deuxieme sens: $ f=g$  presque partout (pour la mesure de Lebesgue) alors $d(f,g)=0$ .\n",
        "\n",
        "On a $ f(x) = g(x)$  presque partout alors $|f(x) - g(x)| = 0 $ presque partout. D'où $d(f,g)=\\frac 1 2 \\int |f(x) - g(x)| \\mathrm dx=0$.\n",
        "\n",
        "$iii)$ Commencant par montrer le premier sens:$d(f,g)=1$ alors $f$ et $g$ possèdent des supports disjoints .\n",
        "\n",
        "On a  $d(f, g) = 1$\n",
        "\n",
        "\n",
        "Soit $J= \\{x \\in \\chi ; f(x) \\geq g(x)\\}$ alors $\\int_J (f(x) - g(x)) \\mathrm dx + \\int_{J^c} (g(x) - f(x)) \\mathrm dx = 2 $\n",
        "\n",
        "et puisque:  $ |\\int_J (f(x) - g(x)) \\mathrm dx| \\leq 1\\space et \\space |\\int_{J^c} (g(x) - f(x)) \\mathrm dx| \\leq 1 $\n",
        "\n",
        "alors $\\int_J (f(x) - g(x)) \\mathrm dx = \\int_{J^c} (g(x) - f(x)) \\mathrm dx = 1$\n",
        "\n",
        "et donc $\\int_J g(x) \\mathrm dx = \\int_J f(x) \\mathrm dx - 1 \\leq 0$\n",
        "et $\\int_{J^c} f(x) \\mathrm dx = \\int_{J^c} g(x) \\mathrm dx - 1 \\leq 0$\n",
        "\n",
        "D'où $\\int_{J^c} f(x) \\mathrm dx = \\int_J g(x) \\mathrm dx = 0$ et $\\int_J f(x) \\mathrm dx = \\int_{J^c} g(x) \\mathrm dx = 1$\n",
        "\n",
        "Ainsi on a $J$ est le support de $f$ et $J^c$ est le support de $g$ et puisque $J\\cap I^c = \\emptyset$, on peut conclure que les supports de $f$ et $g$ sont disjoints.\n",
        "\n",
        "\n",
        "On montre maintenant le deuxieme sens: $f$ et $g$ possèdent des supports disjoints alors$d(f,g)=1$.\n",
        "\n",
        "On a $f$ et $g$ possède des supports disjoints donc:\n",
        "$$\n",
        "\\forall x \\in \\chi, f(x) = 0\\space et \\space g(x) \\neq 0,\\space ou\\space g(x) = 0\\space et \\space f(x) \\neq 0\n",
        "$$\n",
        "Supposons que $F$ est le support de $f$ et  $G$ le support de $g$, donc $F \\cap G= \\emptyset $.\n",
        "$$\n",
        "d(f, g) = \\frac 1 2 \\int_{F \\cup G} |f(x) - g(x)| \\mathrm dx  = \\frac 1 2 \\Big(\\int_F |f(x) - g(x)| \\mathrm dx  + \\int_G |f(x) - g(x)| \\mathrm dx\\Big) =  \\frac 1 2 \\Big(\\int_F f(x) \\mathrm dx  + \\int_G g(x) \\mathrm dx\\Big) = \\frac 1 2 \\Big(\\int f(x) \\mathrm dx  + \\int g(x) \\mathrm dx\\Big) = 1\n",
        "$$\n",
        "\n"
      ]
    },
    {
      "cell_type": "markdown",
      "id": "ae7d158a",
      "metadata": {
        "id": "ae7d158a"
      },
      "source": [
        "2. Pour la région Bretagne, calculez la dissimilarité entre le *kde* des données réelles et de la densité du modèle gaussien."
      ]
    },
    {
      "cell_type": "markdown",
      "source": [
        "Pour renforcer la fiabilité de l'analyse et obtenir des résultats cohérents à chaque exécution, j'ai opté pour l'utilisation de norm.pdf au lieu de np.random.normal, qui génère une densité aléatoire à chaque exécution."
      ],
      "metadata": {
        "id": "pU5lui4wPqZL"
      },
      "id": "pU5lui4wPqZL"
    },
    {
      "cell_type": "code",
      "execution_count": 310,
      "id": "43801814",
      "metadata": {
        "colab": {
          "base_uri": "https://localhost:8080/"
        },
        "id": "43801814",
        "outputId": "5bce4453-c654-4788-f04b-91e9f95d71b4"
      },
      "outputs": [
        {
          "output_type": "stream",
          "name": "stdout",
          "text": [
            "la valeur de la dissimilarité : 0.17913061867767927\n"
          ]
        }
      ],
      "source": [
        "def dissi(df_region, moy_estimateur, var_estimateur,figure):\n",
        "\n",
        "  x = np.linspace(0, 1.2*df_region[\"consumption\"].max(), df_region[\"consumption\"].max())  #On définit l'axe des abscisses\n",
        "  gaussian_pdf = norm.pdf(x, loc=moy_estimateur, scale=np.sqrt(var_estimateur))#densité exacte de la loi gaussienne dont la moyenne et l'écart type correspondent à ceux des données réelles.\n",
        "\n",
        "  kde = gaussian_kde(df_region[\"consumption\"])  # Estimation la densité des données réelles\n",
        "  kde_pdf = kde(x)#évaluation de la densité des données réelles sur l'axe des abcisses\n",
        "  dissi = 0.5 * np.trapz(np.abs(kde_pdf - gaussian_pdf), x)#calcul de la dissimilarité entre le kde des données réelles et de la densité du modèle gaussien.\n",
        "  if figure:\n",
        "    #La courbe de l'estimateur kde des données hivernales réelles\n",
        "    plt.plot(x, kde_pdf, label= 'données hivernales')\n",
        "\n",
        "    #La courbe de la densité de la distribution de la loi gaussienne\n",
        "    plt.plot(x, gaussian_pdf, label= 'données gaussiennes hivernales')\n",
        "    plt.title('kde hivernales des données réelles et générées')\n",
        "  return dissi\n",
        "print(\"la valeur de la dissimilarité :\",dissi(df_region, moy_estimateur, var_estimateur,False))#dissimilarité entre le kde des données réelles et de la densité du modèle gaussien pour la région de Bretagne\n"
      ]
    },
    {
      "cell_type": "markdown",
      "id": "f8817106",
      "metadata": {
        "id": "f8817106"
      },
      "source": [
        "3. Répétez la même procedure pour la région Bretagne en hiver et verifiez votre conclusion de la partie A."
      ]
    },
    {
      "cell_type": "code",
      "execution_count": 311,
      "id": "7b15a902",
      "metadata": {
        "colab": {
          "base_uri": "https://localhost:8080/",
          "height": 470
        },
        "id": "7b15a902",
        "outputId": "bfe9fc83-41e4-4321-c133-14a1a95edc11"
      },
      "outputs": [
        {
          "output_type": "stream",
          "name": "stdout",
          "text": [
            "la valeur de la dissimilarité en hiver est : 0.03093869462358182\n"
          ]
        },
        {
          "output_type": "display_data",
          "data": {
            "text/plain": [
              "<Figure size 640x480 with 1 Axes>"
            ],
            "image/png": "[encoded data removed]"
          },
          "metadata": {}
        }
      ],
      "source": [
        "#dissimilarité entre le kde des données réelles et de la densité du modèle gaussien pour la région de Bretagne en hiver\n",
        "print(\"la valeur de la dissimilarité en hiver est :\",dissi(df_region_hiver, moy_estimateur_hiver, var_estimateur_hiver,True))"
      ]
    },
    {
      "cell_type": "markdown",
      "source": [
        "Il est observable que la disparité entre le noyau de densité estimée (KDE) des données réelles pendant la saison hivernale et la densité du modèle gaussien (d% = 3%) est moins prononcée que celle entre le KDE des données réelles sur l'ensemble de l'année et la densité du modèle gaussien (d% = 17.9%). Ainsi, on peut conclure que les données hivernales s'accordent davantage avec l'hypothèse gaussienne."
      ],
      "metadata": {
        "id": "x7Z67Dg1NCg_"
      },
      "id": "x7Z67Dg1NCg_"
    },
    {
      "cell_type": "markdown",
      "id": "7d78fec0",
      "metadata": {
        "id": "7d78fec0"
      },
      "source": [
        "4. Répétez la même procedure pour toutes régions. Présentez le résultat dans un seul dataframe."
      ]
    },
    {
      "cell_type": "code",
      "execution_count": 250,
      "id": "fef07b23",
      "metadata": {
        "colab": {
          "base_uri": "https://localhost:8080/"
        },
        "id": "fef07b23",
        "outputId": "5b154098-7a70-4a04-b300-eac157ec55a5"
      },
      "outputs": [
        {
          "output_type": "execute_result",
          "data": {
            "text/plain": [
              "[0.037182574282825384,\n",
              " 0.03700834472383928,\n",
              " 0.030661924263356014,\n",
              " 0.04276539685820185,\n",
              " 0.037630488474820145,\n",
              " 0.026471390244130366,\n",
              " 0.04221651504877089,\n",
              " 0.05354182852101971,\n",
              " 0.062398797314791116,\n",
              " 0.03902295047684688,\n",
              " 0.03471400611946176,\n",
              " 0.05156745224705905]"
            ]
          },
          "metadata": {},
          "execution_count": 250
        }
      ],
      "source": [
        "d=[]\n",
        "# Parcours sur les regions\n",
        "for i in regions:\n",
        "  df_reg = df[df.region == i]#Extraction des données de la région i\n",
        "  df_reg_hiver=donnees_region_en_hiver(df_reg)#Extraction des données de la région i en hiver\n",
        "  moy_esti=df_reg_hiver.consumption.mean()#Moyenne empirique des données hivernales pour la région i.\n",
        "  var_esti=df_reg_hiver.consumption.var(ddof=1)#Variance empirique des données hivernales pour la région i.\n",
        "  d.append(dissi(df_reg_hiver, moy_esti, var_esti))#Calcule de la dissimilarité entre le kde des données réelles\n",
        "  #et de la densité du modèle gaussien pour la région i en hiver\n",
        "d"
      ]
    },
    {
      "cell_type": "code",
      "source": [
        "#Transformer d en DataFrame\n",
        "d_regions = { 'region': regions, 'dissimililarié': d}\n",
        "dissi_regions=pd.DataFrame(d_regions)\n",
        "#Affichage du DataFrame obtenue\n",
        "dissi_regions"
      ],
      "metadata": {
        "id": "Qe7ylIJsSC6b",
        "colab": {
          "base_uri": "https://localhost:8080/",
          "height": 425
        },
        "outputId": "b799013b-f197-4cce-e7f7-a06794352e83"
      },
      "id": "Qe7ylIJsSC6b",
      "execution_count": 251,
      "outputs": [
        {
          "output_type": "execute_result",
          "data": {
            "text/plain": [
              "                        region  dissimililarié\n",
              "0         Auvergne-Rhône-Alpes        0.037183\n",
              "1      Bourgogne-Franche-Comté        0.037008\n",
              "2                     Bretagne        0.030662\n",
              "3          Centre-Val de Loire        0.042765\n",
              "4                    Grand Est        0.037630\n",
              "5              Hauts-de-France        0.026471\n",
              "6                    Normandie        0.042217\n",
              "7           Nouvelle-Aquitaine        0.053542\n",
              "8                    Occitanie        0.062399\n",
              "9             Pays de la Loire        0.039023\n",
              "10  Provence-Alpes-Côte d'Azur        0.034714\n",
              "11               Île-de-France        0.051567"
            ],
            "text/html": [
              "\n",
              "  <div id=\"df-564d825e-21fb-4baa-a1d3-2ec86d45a0e0\" class=\"colab-df-container\">\n",
              "    <div>\n",
              "<style scoped>\n",
              "    .dataframe tbody tr th:only-of-type {\n",
              "        vertical-align: middle;\n",
              "    }\n",
              "\n",
              "    .dataframe tbody tr th {\n",
              "        vertical-align: top;\n",
              "    }\n",
              "\n",
              "    .dataframe thead th {\n",
              "        text-align: right;\n",
              "    }\n",
              "</style>\n",
              "<table border=\"1\" class=\"dataframe\">\n",
              "  <thead>\n",
              "    <tr style=\"text-align: right;\">\n",
              "      <th></th>\n",
              "      <th>region</th>\n",
              "      <th>dissimililarié</th>\n",
              "    </tr>\n",
              "  </thead>\n",
              "  <tbody>\n",
              "    <tr>\n",
              "      <th>0</th>\n",
              "      <td>Auvergne-Rhône-Alpes</td>\n",
              "      <td>0.037183</td>\n",
              "    </tr>\n",
              "    <tr>\n",
              "      <th>1</th>\n",
              "      <td>Bourgogne-Franche-Comté</td>\n",
              "      <td>0.037008</td>\n",
              "    </tr>\n",
              "    <tr>\n",
              "      <th>2</th>\n",
              "      <td>Bretagne</td>\n",
              "      <td>0.030662</td>\n",
              "    </tr>\n",
              "    <tr>\n",
              "      <th>3</th>\n",
              "      <td>Centre-Val de Loire</td>\n",
              "      <td>0.042765</td>\n",
              "    </tr>\n",
              "    <tr>\n",
              "      <th>4</th>\n",
              "      <td>Grand Est</td>\n",
              "      <td>0.037630</td>\n",
              "    </tr>\n",
              "    <tr>\n",
              "      <th>5</th>\n",
              "      <td>Hauts-de-France</td>\n",
              "      <td>0.026471</td>\n",
              "    </tr>\n",
              "    <tr>\n",
              "      <th>6</th>\n",
              "      <td>Normandie</td>\n",
              "      <td>0.042217</td>\n",
              "    </tr>\n",
              "    <tr>\n",
              "      <th>7</th>\n",
              "      <td>Nouvelle-Aquitaine</td>\n",
              "      <td>0.053542</td>\n",
              "    </tr>\n",
              "    <tr>\n",
              "      <th>8</th>\n",
              "      <td>Occitanie</td>\n",
              "      <td>0.062399</td>\n",
              "    </tr>\n",
              "    <tr>\n",
              "      <th>9</th>\n",
              "      <td>Pays de la Loire</td>\n",
              "      <td>0.039023</td>\n",
              "    </tr>\n",
              "    <tr>\n",
              "      <th>10</th>\n",
              "      <td>Provence-Alpes-Côte d'Azur</td>\n",
              "      <td>0.034714</td>\n",
              "    </tr>\n",
              "    <tr>\n",
              "      <th>11</th>\n",
              "      <td>Île-de-France</td>\n",
              "      <td>0.051567</td>\n",
              "    </tr>\n",
              "  </tbody>\n",
              "</table>\n",
              "</div>\n",
              "    <div class=\"colab-df-buttons\">\n",
              "\n",
              "  <div class=\"colab-df-container\">\n",
              "    <button class=\"colab-df-convert\" onclick=\"convertToInteractive('df-564d825e-21fb-4baa-a1d3-2ec86d45a0e0')\"\n",
              "            title=\"Convert this dataframe to an interactive table.\"\n",
              "            style=\"display:none;\">\n",
              "\n",
              "  <svg xmlns=\"http://www.w3.org/2000/svg\" height=\"24px\" viewBox=\"0 -960 960 960\">\n",
              "    <path d=\"M120-120v-720h720v720H120Zm60-500h600v-160H180v160Zm220 220h160v-160H400v160Zm0 220h160v-160H400v160ZM180-400h160v-160H180v160Zm440 0h160v-160H620v160ZM180-180h160v-160H180v160Zm440 0h160v-160H620v160Z\"/>\n",
              "  </svg>\n",
              "    </button>\n",
              "\n",
              "  <style>\n",
              "    .colab-df-container {\n",
              "      display:flex;\n",
              "      gap: 12px;\n",
              "    }\n",
              "\n",
              "    .colab-df-convert {\n",
              "      background-color: #E8F0FE;\n",
              "      border: none;\n",
              "      border-radius: 50%;\n",
              "      cursor: pointer;\n",
              "      display: none;\n",
              "      fill: #1967D2;\n",
              "      height: 32px;\n",
              "      padding: 0 0 0 0;\n",
              "      width: 32px;\n",
              "    }\n",
              "\n",
              "    .colab-df-convert:hover {\n",
              "      background-color: #E2EBFA;\n",
              "      box-shadow: 0px 1px 2px rgba(60, 64, 67, 0.3), 0px 1px 3px 1px rgba(60, 64, 67, 0.15);\n",
              "      fill: #174EA6;\n",
              "    }\n",
              "\n",
              "    .colab-df-buttons div {\n",
              "      margin-bottom: 4px;\n",
              "    }\n",
              "\n",
              "    [theme=dark] .colab-df-convert {\n",
              "      background-color: #3B4455;\n",
              "      fill: #D2E3FC;\n",
              "    }\n",
              "\n",
              "    [theme=dark] .colab-df-convert:hover {\n",
              "      background-color: #434B5C;\n",
              "      box-shadow: 0px 1px 3px 1px rgba(0, 0, 0, 0.15);\n",
              "      filter: drop-shadow(0px 1px 2px rgba(0, 0, 0, 0.3));\n",
              "      fill: #FFFFFF;\n",
              "    }\n",
              "  </style>\n",
              "\n",
              "    <script>\n",
              "      const buttonEl =\n",
              "        document.querySelector('#df-564d825e-21fb-4baa-a1d3-2ec86d45a0e0 button.colab-df-convert');\n",
              "      buttonEl.style.display =\n",
              "        google.colab.kernel.accessAllowed ? 'block' : 'none';\n",
              "\n",
              "      async function convertToInteractive(key) {\n",
              "        const element = document.querySelector('#df-564d825e-21fb-4baa-a1d3-2ec86d45a0e0');\n",
              "        const dataTable =\n",
              "          await google.colab.kernel.invokeFunction('convertToInteractive',\n",
              "                                                    [key], {});\n",
              "        if (!dataTable) return;\n",
              "\n",
              "        const docLinkHtml = 'Like what you see? Visit the ' +\n",
              "          '<a target=\"_blank\" href=https://colab.research.google.com/notebooks/data_table.ipynb>data table notebook</a>'\n",
              "          + ' to learn more about interactive tables.';\n",
              "        element.innerHTML = '';\n",
              "        dataTable['output_type'] = 'display_data';\n",
              "        await google.colab.output.renderOutput(dataTable, element);\n",
              "        const docLink = document.createElement('div');\n",
              "        docLink.innerHTML = docLinkHtml;\n",
              "        element.appendChild(docLink);\n",
              "      }\n",
              "    </script>\n",
              "  </div>\n",
              "\n",
              "\n",
              "<div id=\"df-1f2b75ab-4e04-4378-874f-af576bcf1969\">\n",
              "  <button class=\"colab-df-quickchart\" onclick=\"quickchart('df-1f2b75ab-4e04-4378-874f-af576bcf1969')\"\n",
              "            title=\"Suggest charts.\"\n",
              "            style=\"display:none;\">\n",
              "\n",
              "<svg xmlns=\"http://www.w3.org/2000/svg\" height=\"24px\"viewBox=\"0 0 24 24\"\n",
              "     width=\"24px\">\n",
              "    <g>\n",
              "        <path d=\"M19 3H5c-1.1 0-2 .9-2 2v14c0 1.1.9 2 2 2h14c1.1 0 2-.9 2-2V5c0-1.1-.9-2-2-2zM9 17H7v-7h2v7zm4 0h-2V7h2v10zm4 0h-2v-4h2v4z\"/>\n",
              "    </g>\n",
              "</svg>\n",
              "  </button>\n",
              "\n",
              "<style>\n",
              "  .colab-df-quickchart {\n",
              "      --bg-color: #E8F0FE;\n",
              "      --fill-color: #1967D2;\n",
              "      --hover-bg-color: #E2EBFA;\n",
              "      --hover-fill-color: #174EA6;\n",
              "      --disabled-fill-color: #AAA;\n",
              "      --disabled-bg-color: #DDD;\n",
              "  }\n",
              "\n",
              "  [theme=dark] .colab-df-quickchart {\n",
              "      --bg-color: #3B4455;\n",
              "      --fill-color: #D2E3FC;\n",
              "      --hover-bg-color: #434B5C;\n",
              "      --hover-fill-color: #FFFFFF;\n",
              "      --disabled-bg-color: #3B4455;\n",
              "      --disabled-fill-color: #666;\n",
              "  }\n",
              "\n",
              "  .colab-df-quickchart {\n",
              "    background-color: var(--bg-color);\n",
              "    border: none;\n",
              "    border-radius: 50%;\n",
              "    cursor: pointer;\n",
              "    display: none;\n",
              "    fill: var(--fill-color);\n",
              "    height: 32px;\n",
              "    padding: 0;\n",
              "    width: 32px;\n",
              "  }\n",
              "\n",
              "  .colab-df-quickchart:hover {\n",
              "    background-color: var(--hover-bg-color);\n",
              "    box-shadow: 0 1px 2px rgba(60, 64, 67, 0.3), 0 1px 3px 1px rgba(60, 64, 67, 0.15);\n",
              "    fill: var(--button-hover-fill-color);\n",
              "  }\n",
              "\n",
              "  .colab-df-quickchart-complete:disabled,\n",
              "  .colab-df-quickchart-complete:disabled:hover {\n",
              "    background-color: var(--disabled-bg-color);\n",
              "    fill: var(--disabled-fill-color);\n",
              "    box-shadow: none;\n",
              "  }\n",
              "\n",
              "  .colab-df-spinner {\n",
              "    border: 2px solid var(--fill-color);\n",
              "    border-color: transparent;\n",
              "    border-bottom-color: var(--fill-color);\n",
              "    animation:\n",
              "      spin 1s steps(1) infinite;\n",
              "  }\n",
              "\n",
              "  @keyframes spin {\n",
              "    0% {\n",
              "      border-color: transparent;\n",
              "      border-bottom-color: var(--fill-color);\n",
              "      border-left-color: var(--fill-color);\n",
              "    }\n",
              "    20% {\n",
              "      border-color: transparent;\n",
              "      border-left-color: var(--fill-color);\n",
              "      border-top-color: var(--fill-color);\n",
              "    }\n",
              "    30% {\n",
              "      border-color: transparent;\n",
              "      border-left-color: var(--fill-color);\n",
              "      border-top-color: var(--fill-color);\n",
              "      border-right-color: var(--fill-color);\n",
              "    }\n",
              "    40% {\n",
              "      border-color: transparent;\n",
              "      border-right-color: var(--fill-color);\n",
              "      border-top-color: var(--fill-color);\n",
              "    }\n",
              "    60% {\n",
              "      border-color: transparent;\n",
              "      border-right-color: var(--fill-color);\n",
              "    }\n",
              "    80% {\n",
              "      border-color: transparent;\n",
              "      border-right-color: var(--fill-color);\n",
              "      border-bottom-color: var(--fill-color);\n",
              "    }\n",
              "    90% {\n",
              "      border-color: transparent;\n",
              "      border-bottom-color: var(--fill-color);\n",
              "    }\n",
              "  }\n",
              "</style>\n",
              "\n",
              "  <script>\n",
              "    async function quickchart(key) {\n",
              "      const quickchartButtonEl =\n",
              "        document.querySelector('#' + key + ' button');\n",
              "      quickchartButtonEl.disabled = true;  // To prevent multiple clicks.\n",
              "      quickchartButtonEl.classList.add('colab-df-spinner');\n",
              "      try {\n",
              "        const charts = await google.colab.kernel.invokeFunction(\n",
              "            'suggestCharts', [key], {});\n",
              "      } catch (error) {\n",
              "        console.error('Error during call to suggestCharts:', error);\n",
              "      }\n",
              "      quickchartButtonEl.classList.remove('colab-df-spinner');\n",
              "      quickchartButtonEl.classList.add('colab-df-quickchart-complete');\n",
              "    }\n",
              "    (() => {\n",
              "      let quickchartButtonEl =\n",
              "        document.querySelector('#df-1f2b75ab-4e04-4378-874f-af576bcf1969 button');\n",
              "      quickchartButtonEl.style.display =\n",
              "        google.colab.kernel.accessAllowed ? 'block' : 'none';\n",
              "    })();\n",
              "  </script>\n",
              "</div>\n",
              "    </div>\n",
              "  </div>\n"
            ]
          },
          "metadata": {},
          "execution_count": 251
        }
      ]
    },
    {
      "cell_type": "markdown",
      "id": "3f0d3f61",
      "metadata": {
        "id": "3f0d3f61"
      },
      "source": [
        "5. Quelle région a le meilleur *fit* avel le modèle gaussien en hiver ?"
      ]
    },
    {
      "cell_type": "code",
      "execution_count": 252,
      "id": "251b89b1",
      "metadata": {
        "colab": {
          "base_uri": "https://localhost:8080/"
        },
        "id": "251b89b1",
        "outputId": "f5f3eb98-844b-477d-f7d0-b60c0a2acf3d"
      },
      "outputs": [
        {
          "output_type": "stream",
          "name": "stdout",
          "text": [
            "La région qui a le meilleur fit avec le modèle gaussien est: Hauts-de-France\n"
          ]
        }
      ],
      "source": [
        "#Recherche de la région a le meilleur fit avec le modèle gaussien en hiver\n",
        "region_meilleur_fit=dissi_regions[dissi_regions.dissimililarié==dissi_regions['dissimililarié'].min()].region.iloc[0]\n",
        "print('La région qui a le meilleur fit avec le modèle gaussien est: ' + region_meilleur_fit)"
      ]
    },
    {
      "cell_type": "markdown",
      "id": "aff086e4",
      "metadata": {
        "id": "aff086e4"
      },
      "source": [
        "6. Pour ces région et saison, tracez le *kde* des données réelles et le *kde* des données générées sur le même graphique."
      ]
    },
    {
      "cell_type": "code",
      "execution_count": 253,
      "id": "d61bb84e",
      "metadata": {
        "colab": {
          "base_uri": "https://localhost:8080/",
          "height": 472
        },
        "id": "d61bb84e",
        "outputId": "dedf0d1b-9860-4019-b9b1-5cb175d4bdf0"
      },
      "outputs": [
        {
          "output_type": "display_data",
          "data": {
            "text/plain": [
              "<Figure size 640x480 with 1 Axes>"
            ],
            "image/png": "[encoded data removed]"
          },
          "metadata": {}
        }
      ],
      "source": [
        "donnees_region_meilleur_fit_hiver=donnees_region_en_hiver(df[df.region==region_meilleur_fit])#Extraction des données hivernale de la région avec le meilleur fit en utilisant la fonction qu'on a déjà construit dans la partie précedente[question 5].\n",
        "\n",
        "\n",
        "moy_esti_données_region_meilleur_fit_hiver=donnees_region_meilleur_fit_hiver.consumption.mean()#Moyenne empirique des données hivernales pour la région avec meilleur fit.\n",
        "var_esti_données_region_meilleur_fit_hiver=donnees_region_meilleur_fit_hiver.consumption.var(ddof=1)#Variance empirique des données hivernales pour la région avec meilleur fit.\n",
        "\n",
        "\n",
        "x = np.linspace(0.9*donnees_region_meilleur_fit_hiver[\"consumption\"].min(), 1.1*donnees_region_meilleur_fit_hiver[\"consumption\"].max(), 1000)#On définit l'axe des abcisses\n",
        "nouv_données_hiver_reg_meilleur_fit = norm.pdf(x,loc=moy_esti_données_region_meilleur_fit_hiver, scale=np.sqrt(var_esti_données_region_meilleur_fit_hiver))#densité exacte de la loi gaussienne dont la moyenne et l'écart type correspondent à ceux des données réelles.\n",
        "\n",
        "nouv_donnees_hiver_reg_meilleur_fit = pd.DataFrame(nouv_données_hiver_reg_meilleur_fit, columns = ['consumption'])#Transformer les nouvelles données en DataFrame\n",
        "plt.plot(x,nouv_données_hiver_reg_meilleur_fit, label=\"nouv_Data_hiver_reg\", color='red')# Traçage de la kde des données générées\n",
        "sns.kdeplot(data=donnees_region_meilleur_fit_hiver, label=\"Data_hiver_reg\", color='blue', fill=True)# Estimation et traçage de la kde des données réelles\n",
        "\n",
        "plt.title(region_meilleur_fit + ' en hiver')\n",
        "plt.xlabel(\"Consumption (MW)\")\n",
        "plt.show()"
      ]
    },
    {
      "cell_type": "markdown",
      "id": "838fb2d1",
      "metadata": {
        "id": "838fb2d1"
      },
      "source": [
        "## C. Statistique bayésienne"
      ]
    },
    {
      "cell_type": "markdown",
      "id": "92daddb8",
      "metadata": {
        "id": "92daddb8"
      },
      "source": [
        "On souhaite inclure la connaissance a priori sur l'estimation, en utilisant la statistique bayésienne.\n",
        "\n",
        "Considérez la région Bretagne en hiver. On se focalise sur la moyenne $\\mu$, en supposant que l'écart-type est connu et egal à $\\sigma=400$MW. Supposons la loi a priori sur $\\mu$ avec moyenne $\\mu_0=3500$MW et l'écart-type $\\sigma_0=500$MW.\n",
        "\n",
        "1. Donnez la loi a posteriori pour $\\mu$, en utilisant les paramètres $\\sigma$, $\\mu_0$, $\\sigma_0$ et $n$ observations $x_1,\\ldots,x_n$."
      ]
    },
    {
      "cell_type": "markdown",
      "id": "2d66e4b9",
      "metadata": {
        "id": "2d66e4b9"
      },
      "source": [
        "Votre réponse :\n",
        "\n",
        "Soit:\n",
        "\n",
        "$x=(x_1,x_2,...,x_n)$\n",
        "\n",
        "la distribution a posteriori: $\\pi(\\mu | x) $\n",
        "\n",
        "la fonction de vraisemblance: $p(x | \\mu) \\sim \\mathcal{N}(\\mu,\\,\\sigma^{2})^{\\otimes n} $\n",
        "\n",
        "la distribution a priori sur $\\mu$: $\\pi(\\mu)\\sim \\mathcal{N}({\\mu}_0,\\,\\sigma_0^{2})$\n",
        "\n",
        "La loi marginale: $m(x)$\n",
        "\n",
        "\n",
        "\n",
        "On défini alors la distribution a posteriori de $\\mu$ par :\n",
        "$$\n",
        "\\pi(\\mu | x) = \\frac{p(x | \\mu) \\cdot \\pi(\\mu)}{m(x)}\n",
        "$$\n",
        "\n",
        "\n",
        "On a:\n",
        "\n",
        "$\n",
        "\\pi(\\mu | x) \\propto \\exp\\left(-\\frac{1}{2\\sigma^2}\\sum_{i =1}^n(x_i - \\mu)^2\\right)  \\cdot\n",
        " \\exp\\left(-\\frac{1}{2\\sigma_0^2}(\\mu - \\mu_0)^2\\right)\n",
        " \\propto \\exp\\left(-\\frac{n\\sigma_0^2 + \\sigma^2}{2\\sigma^2\\sigma_0^2}\\left( \\mu^2 - 2\\cdot\\frac{\\sigma^2{\\mu}_0 + \\sigma_0^2\\sum_{i =1}^n x_i^2}{n\\sigma_0^2 + \\sigma^2}\\mu\\right)\\right)\n",
        "$\n",
        "\n",
        "\n",
        "\n",
        "\n",
        "\n",
        "Donc $\\pi(\\mu | x)\\sim \\mathcal{N}({\\mu}_{\\text{posterior}},\\,\\sigma^2_{\\text{posterior}}) $ avec :\n",
        "\n",
        "$$\n",
        "\\mu_{\\text{posterior}} = \\frac{\\sigma_0^2 \\cdot \\sum_{i=1}^n x_i + \\sigma^2 \\cdot \\mu_0}{\\sigma_0^2 \\cdot n  + \\sigma^2}\n",
        "$$\n",
        "\n",
        "$$\n",
        "\\sigma_{\\text{posterior}}^2 = \\frac{\\sigma^2 \\cdot \\sigma_0^2 }{ n \\cdot \\sigma_0^2 + \\sigma^2}\n",
        "$$\n"
      ]
    },
    {
      "cell_type": "markdown",
      "id": "9ce2daad",
      "metadata": {
        "id": "9ce2daad"
      },
      "source": [
        "2. Donnez les paramètres de la loi a posteriori obtenue pour chaque année de 2013 au 2023, considérée independament, dans un seul dataframe."
      ]
    },
    {
      "cell_type": "code",
      "execution_count": 254,
      "id": "74439986",
      "metadata": {
        "id": "74439986"
      },
      "outputs": [],
      "source": [
        "# Nos Données\n",
        "sigma = 400\n",
        "sigma0 = 500\n",
        "mu0 = 3500\n",
        "#On initialise le DataFrame de la loi a posteriori\n",
        "df_posteriori = pd.DataFrame({'year': [], 'posteriori moy': [],'posteriori std': []})\n",
        "# On définit une fonction qui calcule la moyenne et l'ecart type a posteriori\n",
        "def posteriori(year):\n",
        "  annee = df_region_hiver[df_region_hiver['date'].dt.year == year]['consumption']\n",
        "  n = len(annee)\n",
        "  sample_mean = annee.mean()\n",
        "  posteriori_moy=(sigma**2 / (n * sigma0**2 + sigma**2)) * mu0 + (n * sigma0**2 / (n * sigma0**2 + sigma**2)) * sample_mean\n",
        "  posteriori_std=sigma * sigma0 / np.sqrt(n * sigma0**2 + sigma**2)\n",
        "  return posteriori_moy,posteriori_std\n",
        "\n"
      ]
    },
    {
      "cell_type": "code",
      "source": [
        "# On fait le parcours sur les années et On remplit le DataFrame qu'on a définit(le DataFrame \"df_posteriori\") puis on affiche le DataFrame.\n",
        "for annee in range(2013,2024):\n",
        "   df_posteriori = df_posteriori.append({'year': annee, 'posteriori moy': posteriori(annee)[0],\n",
        "                                         'posteriori std': posteriori(annee)[1]}, ignore_index=True)\n",
        "df_posteriori = df_posteriori.astype({'year': 'int32'})\n",
        "print(df_posteriori)"
      ],
      "metadata": {
        "colab": {
          "base_uri": "https://localhost:8080/"
        },
        "id": "J-GO5XEszppZ",
        "outputId": "33c4feeb-5f85-4cbb-aa5e-e75e97ca6b20"
      },
      "id": "J-GO5XEszppZ",
      "execution_count": 255,
      "outputs": [
        {
          "output_type": "stream",
          "name": "stdout",
          "text": [
            "    year  posteriori moy  posteriori std\n",
            "0   2013     3343.413504       42.014582\n",
            "1   2014     3118.424537       42.014582\n",
            "2   2015     3167.398500       42.014582\n",
            "3   2016     3207.507639       41.784716\n",
            "4   2017     3251.224625       42.014582\n",
            "5   2018     3315.081642       42.014582\n",
            "6   2019     3195.200794       42.014582\n",
            "7   2020     3145.504147       41.784716\n",
            "8   2021     3341.946161       42.014582\n",
            "9   2022     3165.081642       42.014582\n",
            "10  2023     3117.547123       44.543540\n"
          ]
        },
        {
          "output_type": "stream",
          "name": "stderr",
          "text": [
            "<ipython-input-255-2b6056447513>:3: FutureWarning: The frame.append method is deprecated and will be removed from pandas in a future version. Use pandas.concat instead.\n",
            "  df_posteriori = df_posteriori.append({'year': annee, 'posteriori moy': posteriori(annee)[0],\n",
            "<ipython-input-255-2b6056447513>:3: FutureWarning: The frame.append method is deprecated and will be removed from pandas in a future version. Use pandas.concat instead.\n",
            "  df_posteriori = df_posteriori.append({'year': annee, 'posteriori moy': posteriori(annee)[0],\n",
            "<ipython-input-255-2b6056447513>:3: FutureWarning: The frame.append method is deprecated and will be removed from pandas in a future version. Use pandas.concat instead.\n",
            "  df_posteriori = df_posteriori.append({'year': annee, 'posteriori moy': posteriori(annee)[0],\n",
            "<ipython-input-255-2b6056447513>:3: FutureWarning: The frame.append method is deprecated and will be removed from pandas in a future version. Use pandas.concat instead.\n",
            "  df_posteriori = df_posteriori.append({'year': annee, 'posteriori moy': posteriori(annee)[0],\n",
            "<ipython-input-255-2b6056447513>:3: FutureWarning: The frame.append method is deprecated and will be removed from pandas in a future version. Use pandas.concat instead.\n",
            "  df_posteriori = df_posteriori.append({'year': annee, 'posteriori moy': posteriori(annee)[0],\n",
            "<ipython-input-255-2b6056447513>:3: FutureWarning: The frame.append method is deprecated and will be removed from pandas in a future version. Use pandas.concat instead.\n",
            "  df_posteriori = df_posteriori.append({'year': annee, 'posteriori moy': posteriori(annee)[0],\n",
            "<ipython-input-255-2b6056447513>:3: FutureWarning: The frame.append method is deprecated and will be removed from pandas in a future version. Use pandas.concat instead.\n",
            "  df_posteriori = df_posteriori.append({'year': annee, 'posteriori moy': posteriori(annee)[0],\n",
            "<ipython-input-255-2b6056447513>:3: FutureWarning: The frame.append method is deprecated and will be removed from pandas in a future version. Use pandas.concat instead.\n",
            "  df_posteriori = df_posteriori.append({'year': annee, 'posteriori moy': posteriori(annee)[0],\n",
            "<ipython-input-255-2b6056447513>:3: FutureWarning: The frame.append method is deprecated and will be removed from pandas in a future version. Use pandas.concat instead.\n",
            "  df_posteriori = df_posteriori.append({'year': annee, 'posteriori moy': posteriori(annee)[0],\n",
            "<ipython-input-255-2b6056447513>:3: FutureWarning: The frame.append method is deprecated and will be removed from pandas in a future version. Use pandas.concat instead.\n",
            "  df_posteriori = df_posteriori.append({'year': annee, 'posteriori moy': posteriori(annee)[0],\n",
            "<ipython-input-255-2b6056447513>:3: FutureWarning: The frame.append method is deprecated and will be removed from pandas in a future version. Use pandas.concat instead.\n",
            "  df_posteriori = df_posteriori.append({'year': annee, 'posteriori moy': posteriori(annee)[0],\n"
          ]
        }
      ]
    },
    {
      "cell_type": "markdown",
      "id": "34e7e53f",
      "metadata": {
        "id": "34e7e53f"
      },
      "source": [
        "3. Tracez la densité de la loi a posteriori en 2023 et le *kde* des données réelles en 2023, sur le même graphique."
      ]
    },
    {
      "cell_type": "code",
      "execution_count": 256,
      "id": "eb02344e",
      "metadata": {
        "id": "eb02344e",
        "colab": {
          "base_uri": "https://localhost:8080/",
          "height": 452
        },
        "outputId": "d1c8c271-e371-418a-b593-462a8ef8b6b6"
      },
      "outputs": [
        {
          "output_type": "display_data",
          "data": {
            "text/plain": [
              "<Figure size 640x480 with 1 Axes>"
            ],
            "image/png": "[encoded data removed]"
          },
          "metadata": {}
        }
      ],
      "source": [
        "\n",
        "df_23=df_posteriori[df_posteriori['year'] == 2023]#Extraction des données de 2023\n",
        "\n",
        "\n",
        "p_moy = df_23['posteriori moy']# Calcul de la moyenne de loi a posteriori en 2023\n",
        "p_std = df_23['posteriori std']# Calcul de l'ecart type  de loi a posteriori en 2023\n",
        "borne_nb = 2 * int(p_moy)\n",
        "x = np.linspace(0,borne_nb,borne_nb)\n",
        "kde_23 = gaussian_kde(df_region_hiver[df_region_hiver['date'].dt.year == 2023]['consumption'])#kde des données réelles en 2023\n",
        "donnees_23_pdf=kde_23(x)# Les données réelles en 2023\n",
        "loi_p = norm.pdf(x, loc= p_moy, scale=p_std)# La loi a posteriori en 2023\n",
        "\n",
        "plt.plot(x,donnees_23_pdf,label=\" kde des données réelles\")# Traçage de la kde des données réelles\n",
        "plt.plot(x,loi_p, label = \"densité de la loi a posteriori\")# Traçage de la densité de la loi à posteriori\n",
        "plt.legend()\n",
        "plt.title(\"Bretagne en hiver 2023\")#Ajout d'un titre\n",
        "plt.show()"
      ]
    },
    {
      "cell_type": "markdown",
      "id": "34f2f990",
      "metadata": {
        "id": "34f2f990"
      },
      "source": [
        "*4*. Discutez les résultats, en les comparant avec ceux obtenus dans la partie A."
      ]
    },
    {
      "cell_type": "code",
      "source": [
        "print(p_moy.values[0]) #Affichage de valeur centrale de la moyenne"
      ],
      "metadata": {
        "colab": {
          "base_uri": "https://localhost:8080/"
        },
        "id": "5PyirHWbOurO",
        "outputId": "d29dccca-df5a-4255-953d-47afa9df1b6c"
      },
      "id": "5PyirHWbOurO",
      "execution_count": 257,
      "outputs": [
        {
          "output_type": "stream",
          "name": "stdout",
          "text": [
            "3117.5471230158732\n"
          ]
        }
      ]
    },
    {
      "cell_type": "code",
      "source": [
        "print(p_std.values[0])#Affichage de l'incertitude sur la moyenne"
      ],
      "metadata": {
        "colab": {
          "base_uri": "https://localhost:8080/"
        },
        "id": "QKEt_7FwP5qr",
        "outputId": "aeb952c8-b45a-4e88-932a-21fbc77dff13"
      },
      "id": "QKEt_7FwP5qr",
      "execution_count": 258,
      "outputs": [
        {
          "output_type": "stream",
          "name": "stdout",
          "text": [
            "44.5435403187374\n"
          ]
        }
      ]
    },
    {
      "cell_type": "code",
      "source": [
        "print(moy_estimateur_hiver) #Affichage de l'estimation ponctuelle de la moyenne"
      ],
      "metadata": {
        "colab": {
          "base_uri": "https://localhost:8080/"
        },
        "id": "57_-MO9hP6GQ",
        "outputId": "f4c8751d-e5d1-4b02-9b20-96fdaadf5736"
      },
      "id": "57_-MO9hP6GQ",
      "execution_count": 259,
      "outputs": [
        {
          "output_type": "stream",
          "name": "stdout",
          "text": [
            "3214.1782077393077\n"
          ]
        }
      ]
    },
    {
      "cell_type": "markdown",
      "id": "b636cd1b",
      "metadata": {
        "id": "b636cd1b"
      },
      "source": [
        "Votre réponse :\n",
        "À la différence de la partie A, où nous nous sommes contentés d'utiliser un estimateur ponctuel ($\\hat{\\mu}$ est d'environ 3214 $MW$) pour la moyenne, dans la section C, nous avons adopté une approche bayésienne. Cela nous a permis de construire la distribution a posteriori de la moyenne en prenant en compte à la fois la distribution a priori et la vraisemblance. Cette approche a abouti à des estimations plus fiables, car elle a tenu compte de l'incertitude (où $\\mu = 3117.54 \\space MW$ et $\\Delta\\mu$ est d'environ 90 MW) ainsi que des connaissances antérieures."
      ]
    },
    {
      "cell_type": "markdown",
      "id": "fbb2395b",
      "metadata": {
        "id": "fbb2395b"
      },
      "source": [
        "## D. Test d'hypothèse"
      ]
    },
    {
      "cell_type": "markdown",
      "id": "9829b730",
      "metadata": {
        "id": "9829b730"
      },
      "source": [
        "Considérez la région Bretagne. Alors que l'écart-type en hiver est egal à 400MW, vous shouaitez tester l'hypothèse que c'était 500MW en 2023. La moyenne est supposée connue et egal à 3200MW.\n",
        "\n",
        "1. Proposez la statisque du test pour un niveau $\\alpha$."
      ]
    },
    {
      "cell_type": "markdown",
      "id": "eabddc9c",
      "metadata": {
        "id": "eabddc9c"
      },
      "source": [
        "Votre réponse :\n",
        "\n",
        "On pose le test d'hypothèse suivant:\n",
        "$$\n",
        "\\left\\{\\begin{split} H_0: X_i\\sim \\mathcal{N}(\\mu,\\,\\sigma_0^{2}) \\quad ∀ 1\\leq i \\leq n\\\\\n",
        " H_1: X_i\\sim \\mathcal{N}(\\mu,\\,\\sigma_1^{2}) \\quad ∀ 1\\leq i \\leq n\n",
        "\\end{split}\\right.\n",
        "\n",
        "soit  $x = (x_1,x_2,..x_n)$ une observation et  $X = (X_1,X_2,..X_n)$\n",
        "la variable aléatoire associé à x.\n",
        "\n",
        "$$\n",
        "Appliquons le test de Neyman-Pearson (RV) :\n",
        "\n",
        "soit $k_\\alpha >0$ tel que $P_{\\sigma_0}(Z(X)>k_\\alpha) = \\alpha $\n",
        "\n",
        "On sait que, $ \\delta^\\star(x) = \\mathbb{1}_{\\{Z(x)>k_\\alpha\\}} $ est le test uniformément plus puissant de niveau $\\alpha$.\n",
        "$$\n",
        "Z(x) = \\frac{P_{\\sigma_1}(x)}{P_{\\sigma_0}(x)} = \\left(\\frac{\\sigma_0}{\\sigma_1}\\right)^{n/ 2}\\exp\\left(-\\left(\\frac 1 {2\\sigma_1^2} - \\frac 1 {2\\sigma_0^2}\\right)\\sum_{i =1}^n(x_i - \\mu)^2\\right)\n",
        "$$\n",
        "\n",
        "Soit:\n",
        "$ \\space T(x) = \\sum_{i =1}^n(x_i - \\mu)^2 $  alors$\n",
        "$\n",
        "$$\n",
        " Z(x) =\\left(\\frac{\\sigma_0}{\\sigma_1}\\right)^{n/ 2}\\exp\\left(-\\left(\\frac 1 {2\\sigma_1^2} - \\frac 1 {2\\sigma_0^2}\\right)T(x)\\right)\n",
        "$$\n",
        "\n",
        "\n",
        "\n",
        "\n",
        "Puisque on a $\\sigma_0 < \\sigma_1$ alors on déduit que $Z(x)$ est une fonction croissante en $T(x)$ et donc:\n",
        "$\\exists  t_\\alpha\\in\\mathbb{R}$ tel que $P_{\\sigma_0}(T(X)>t_\\alpha)=P_{\\sigma_0}(Z(X)>k_\\alpha)  = \\alpha$\n",
        "\n",
        "Aussi, on a $\\frac{T(x)}{\\sigma^2_0} \\sim\\chi^2(n)$, alors  $\\alpha = P_{\\sigma_0}(\\frac{T(x)}{\\sigma^2_0}>\\frac{t_\\alpha}{\\sigma^2_0}) = 1-F_{\\frac {T(X)}{\\sigma^2_0}}(\\frac{t_\\alpha}{\\sigma^2_0})$, d'où $t_\\alpha = \\sigma_0^2 q^{\\chi^2(n)}_{1-\\alpha}$.\n",
        "\n"
      ]
    },
    {
      "cell_type": "markdown",
      "id": "7d66ab40",
      "metadata": {
        "id": "7d66ab40"
      },
      "source": [
        "2. Donnez le résultat de ce test pour $\\alpha=1\\%$."
      ]
    },
    {
      "cell_type": "code",
      "execution_count": 306,
      "id": "5e961bfd",
      "metadata": {
        "id": "5e961bfd",
        "colab": {
          "base_uri": "https://localhost:8080/"
        },
        "outputId": "581ded4e-3aad-4301-8cc0-4c1c07bae1bb"
      },
      "outputs": [
        {
          "output_type": "stream",
          "name": "stdout",
          "text": [
            "l'hypothèse H0 est accepté\n"
          ]
        },
        {
          "output_type": "execute_result",
          "data": {
            "text/plain": [
              "14600063"
            ]
          },
          "metadata": {},
          "execution_count": 306
        }
      ],
      "source": [
        "#Nos données\n",
        "sigma0 = 400\n",
        "mu = 3200\n",
        "alpha = 0.01\n",
        "#extraction des données hivernales en Bretagne pour l'année 2023 (du 1er janvier jusqu'a 21 mars).\n",
        "donnees_Bretagne_23 = df_region_hiver[df_region_hiver['date'].dt.year == 2023 ]\n",
        "\n",
        "n = len(donnees_Bretagne_23)#Calcul du degrées de liberté\n",
        "\n",
        "t_alpha = (sigma0**2) * chi2.ppf(1-alpha, n)# Calcul du seuil t_alpha\n",
        "t = np.sum((donnees_Bretagne_23['consumption'] - mu)**2)# Calcul de la statistique qu'on appele t\n",
        "#On fait maintenant le test d'hypothèse:\n",
        "test = t<t_alpha\n",
        "if(test):\n",
        "  print(\"l'hypothèse H0 est accepté\")\n",
        "else:\n",
        "  print(\"l'hypothèse H0 est rejeté\")\n"
      ]
    },
    {
      "cell_type": "markdown",
      "id": "a59a2a96",
      "metadata": {
        "id": "a59a2a96"
      },
      "source": [
        "## E. Test d'indépendence"
      ]
    },
    {
      "cell_type": "markdown",
      "id": "a71cf918",
      "metadata": {
        "id": "a71cf918"
      },
      "source": [
        "Considérez la consomation d'electicité en Bretagne et en Provence-Alpes-Côte d'Azur en hiver."
      ]
    },
    {
      "cell_type": "markdown",
      "id": "a7c78215",
      "metadata": {
        "id": "a7c78215"
      },
      "source": [
        "1. Visualisez la loi jointe de la consomation dans ces 2 régions en utilisant la librarie **seaborn**."
      ]
    },
    {
      "cell_type": "code",
      "execution_count": 261,
      "id": "29b4c335",
      "metadata": {
        "id": "29b4c335",
        "colab": {
          "base_uri": "https://localhost:8080/"
        },
        "outputId": "0bf29dcb-aaaf-4f7a-e8c8-15d867886b9e"
      },
      "outputs": [
        {
          "output_type": "stream",
          "name": "stdout",
          "text": [
            "          date  consumption_Bretagne  consumption_provence\n",
            "0   2013-01-01                  2595                  5369\n",
            "1   2013-01-02                  3195                  5834\n",
            "2   2013-01-03                  3157                  5948\n",
            "3   2013-01-04                  3142                  5974\n",
            "4   2013-01-05                  2859                  5580\n",
            "..         ...                   ...                   ...\n",
            "977 2023-03-17                  2609                  4442\n",
            "978 2023-03-18                  2309                  4258\n",
            "979 2023-03-19                  2206                  4116\n",
            "980 2023-03-20                  2672                  4257\n",
            "981 2023-03-21                  2618                  4277\n",
            "\n",
            "[982 rows x 3 columns]\n"
          ]
        }
      ],
      "source": [
        "df_hiver_provence = donnees_region_en_hiver(df[df.region == \"Provence-Alpes-Côte d'Azur\"])# Extraction des données relatifs à la consomation d'electicité en Provence-Alpes-Côte d'Azur en hiver\n",
        "#Création d'un DataFrame de la loi jointe de la consommation dans ces deux régions, renommer les colonnes et affichage du DataFrame crée\n",
        "df_hiver_deux_regions = pd.merge(df_region_hiver[['consumption','date']],df_hiver_provence[['consumption','date']], on ='date')\n",
        "df_hiver_deux_regions = df_hiver_deux_regions[['date','consumption_x','consumption_y']].rename(columns = {'consumption_x':'consumption_Bretagne','consumption_y':'consumption_provence'})\n",
        "print(df_hiver_deux_regions)"
      ]
    },
    {
      "cell_type": "code",
      "source": [
        "#Visualisation la loi jointe de la consomation dans ces 2 régions en utilisant la librarie seaborn.\n",
        "sns.scatterplot(data=df_hiver_deux_regions, x=\"consumption_Bretagne\", y=\"consumption_provence\")\n",
        "plt.title(\"Loi Jointe de la Consommation en Hiver\")\n",
        "plt.xlabel(\"Consommation en Bretagne (MW)\")\n",
        "plt.ylabel(\"Consommation en Provence-Alpes-Côte d'Azur (MW)\")\n",
        "plt.show()"
      ],
      "metadata": {
        "colab": {
          "base_uri": "https://localhost:8080/",
          "height": 472
        },
        "id": "HBuFfIPX3Seh",
        "outputId": "e4cfe743-7293-4351-f35b-26116674c0f8"
      },
      "id": "HBuFfIPX3Seh",
      "execution_count": 262,
      "outputs": [
        {
          "output_type": "display_data",
          "data": {
            "text/plain": [
              "<Figure size 640x480 with 1 Axes>"
            ],
            "image/png": "[encoded data removed]"
          },
          "metadata": {}
        }
      ]
    },
    {
      "cell_type": "markdown",
      "id": "a30a20bc",
      "metadata": {
        "id": "a30a20bc"
      },
      "source": [
        "2. Est-ce que vous pensez que la consomation dans ces 2 régions est indépendante ?"
      ]
    },
    {
      "cell_type": "code",
      "source": [
        "#On calcul le coefficient d'autocorrelation en utilisant corr avec la méthode \"pearson\" puis on affiche le résultat.\n",
        "corr=df_hiver_deux_regions[['consumption_Bretagne','consumption_provence']].corr(method='pearson')\n",
        "print('La correlation entre les deux regions est \\n ' , corr)"
      ],
      "metadata": {
        "colab": {
          "base_uri": "https://localhost:8080/"
        },
        "id": "RxZJrVRRSVmR",
        "outputId": "f841c52d-8dbb-45dc-df70-98d2c5f7504c"
      },
      "id": "RxZJrVRRSVmR",
      "execution_count": 263,
      "outputs": [
        {
          "output_type": "stream",
          "name": "stdout",
          "text": [
            "La correlation entre les deux regions est \n",
            "                        consumption_Bretagne  consumption_provence\n",
            "consumption_Bretagne               1.00000               0.71678\n",
            "consumption_provence               0.71678               1.00000\n"
          ]
        }
      ]
    },
    {
      "cell_type": "markdown",
      "id": "bedb9130",
      "metadata": {
        "id": "bedb9130"
      },
      "source": [
        "Votre réponse : Selon le coefficient de corrélation, il est évident que les deux régions présentent une dépendance, car la corrélation est supérieure à 0,5."
      ]
    },
    {
      "cell_type": "markdown",
      "id": "164f9b1c",
      "metadata": {
        "id": "164f9b1c"
      },
      "source": [
        "3. Proposez le test du Chi-2 pour l'indépendance de la consomation\n",
        "\n",
        "---\n",
        "\n",
        "dans ces deux régions pour un niveau $\\alpha$."
      ]
    },
    {
      "cell_type": "markdown",
      "id": "f079fecb",
      "metadata": {
        "id": "f079fecb"
      },
      "source": [
        "Votre réponse :\n",
        "\n",
        "Test du Chi-Deux pour l'Indépendance de la consommation  entre Bretagne et Provence-Alpes-Côte d'Azur:\n",
        "\n",
        "On considère deux variables aléatoires $X=(X_1, X_2..,X_n)$ et $Y=(Y_1, Y_2..,Y_n)$ et on souhaite tester le fait que ces deux variables sont indépendantes. Dans notre cas, $X$ désigne la consommation d'éléctricité en Bretagne et $Y$ désigne la consommation d'éléctricité en Provence-Alpes-Côte d'Azur. L'hypothèse à tester est l'indépendance de la consommation entre les deux régions.\n",
        "\n",
        "Soit:\n",
        "\n",
        "$$\n",
        "\\left\\{\\begin{split} H_0:X \\perp Y \\\\\n",
        "  H_1:  X \\not \\perp Y\n",
        "\\end{split}\\right.\n",
        "$$\n",
        "\n",
        "\n",
        "\n",
        "On choisi deux partitions:\n",
        "$A_1,...,A_K$ et $B_1,..., B_L$  des espaces de valeurs correspondants et soit:\n",
        "\n",
        "$N_{i,j}=\\sum_{t=1}^n \\mathbb{1}_\\text{{$X_t \\in A_i, Y_t \\in B_j$}}$ , $N_{i}=\\sum_{t=1}^n \\mathbb{1}_\\text{{$X_t \\in A_i$}}$ et $N_{j}=\\sum_{t=1}^n \\mathbb{1}_\\text{{$X_t \\in B_j$}}$\n",
        "\n",
        "\n",
        "**Statistique du test:**\n",
        "\n",
        "La statistique du test du Chi-2 est calculée de la manière suivante :\n",
        "\n",
        "$$ T(X,Y) = \\sum_{i=1}^K \\sum_{j=1}^L \\frac{{(N_{i,j} - \\frac {N_{i}N_{j}} n)^2}}{{\\frac {N_{i}N_{j}} n}} \\stackrel{d}{\\rightarrow} \\chi^2((K-1)(L-1)) \\space \\text{lorsque n tend vers l'infini} $$\n",
        "\n",
        "\n",
        "Avec $(K-1)(L-1)$=(Nombre de Lignes - 1) * (Nombre de Colonnes - 1)=Degrés de liberté.\n",
        "\n",
        "\n",
        "donc le test est: $δ(x, y) = \\mathbb{1}_\\text{{$T(x,y)>c_\\alpha$}}$\n",
        "avec $\\alpha=P_0(T(X,Y)>c_\\alpha)$ d'où:\n",
        "\n",
        " si $ T(x, y) > c_\\alpha$ alors $ H_0$ est rejetée et on dit que les consommations d'électricité en Bretagne et en Provence-Alpes-Côte d'Azur ne sont pas indépendantes.\n",
        "\n",
        " Sinon $H_0$ est acceptée et on dit que les consommations d'électricité en Bretagne et en Provence-Alpes-Côte d'Azur sont indépendantes.\n"
      ]
    },
    {
      "cell_type": "markdown",
      "id": "50a23229",
      "metadata": {
        "id": "50a23229"
      },
      "source": [
        "4. Donnez le résultat de ce test pour $\\alpha=1\\%$."
      ]
    },
    {
      "cell_type": "code",
      "source": [
        "#On effectue le binning avec des intervalles égaux, c'est à dire on divise les données en plages de valeurs égales.\n",
        "#On choisi d'effectuer le bining avec 3 intervalles.\n",
        "def binning(donnees):\n",
        "  n=3\n",
        "  intervalle = int(np.ceil((donnees.max() - donnees.min())/n))\n",
        "  return(intervalle,n)"
      ],
      "metadata": {
        "id": "YtkbKQYMaOz2"
      },
      "id": "YtkbKQYMaOz2",
      "execution_count": 278,
      "outputs": []
    },
    {
      "cell_type": "code",
      "source": [
        "(intervalle1,n1) = binning(df_hiver_deux_regions['consumption_Bretagne'])\n",
        "(intervalle2,n2) = binning(df_hiver_deux_regions['consumption_provence'])\n",
        "print(intervalle1,n1,intervalle2,n2)"
      ],
      "metadata": {
        "colab": {
          "base_uri": "https://localhost:8080/"
        },
        "id": "qiQnGQnQfgUe",
        "outputId": "25a8b69b-3ce9-4f59-f0f2-2b6e639fedb1"
      },
      "id": "qiQnGQnQfgUe",
      "execution_count": 279,
      "outputs": [
        {
          "output_type": "stream",
          "name": "stdout",
          "text": [
            "881 3 1207 3\n"
          ]
        }
      ]
    },
    {
      "cell_type": "code",
      "source": [
        "m1=np.min(df_hiver_deux_regions['consumption_Bretagne'])\n",
        "m2=np.min(df_hiver_deux_regions['consumption_provence'])\n",
        "bins_i=[intervalle1*i+m1 for i in range(n1+1)]\n",
        "bins_i[0]=bins_i[0]-1\n",
        "bins_j=[intervalle2*j+m2  for j in range(n2+1)]\n",
        "bins_j[0]=bins_j[0]-1\n",
        "Bretagne = pd.cut(df_hiver_deux_regions['consumption_Bretagne'], bins_i)\n",
        "Provence=pd.cut(df_hiver_deux_regions['consumption_provence'], bins_j)\n"
      ],
      "metadata": {
        "id": "99npsHXlgwmj"
      },
      "id": "99npsHXlgwmj",
      "execution_count": 280,
      "outputs": []
    },
    {
      "cell_type": "code",
      "execution_count": 281,
      "id": "5e744874",
      "metadata": {
        "id": "5e744874",
        "colab": {
          "base_uri": "https://localhost:8080/",
          "height": 175
        },
        "outputId": "01bb98cf-9d96-4773-ac15-6d71a89cc50e"
      },
      "outputs": [
        {
          "output_type": "execute_result",
          "data": {
            "text/plain": [
              "consumption_provence  (3939, 5147]  (5147, 6354]  (6354, 7561]\n",
              "consumption_Bretagne                                          \n",
              "(2166, 3048]                   173           156             2\n",
              "(3048, 3929]                    62           453            88\n",
              "(3929, 4810]                     0            23            25"
            ],
            "text/html": [
              "\n",
              "  <div id=\"df-c3200b7d-26d5-417a-905d-531253a1ce50\" class=\"colab-df-container\">\n",
              "    <div>\n",
              "<style scoped>\n",
              "    .dataframe tbody tr th:only-of-type {\n",
              "        vertical-align: middle;\n",
              "    }\n",
              "\n",
              "    .dataframe tbody tr th {\n",
              "        vertical-align: top;\n",
              "    }\n",
              "\n",
              "    .dataframe thead th {\n",
              "        text-align: right;\n",
              "    }\n",
              "</style>\n",
              "<table border=\"1\" class=\"dataframe\">\n",
              "  <thead>\n",
              "    <tr style=\"text-align: right;\">\n",
              "      <th>consumption_provence</th>\n",
              "      <th>(3939, 5147]</th>\n",
              "      <th>(5147, 6354]</th>\n",
              "      <th>(6354, 7561]</th>\n",
              "    </tr>\n",
              "    <tr>\n",
              "      <th>consumption_Bretagne</th>\n",
              "      <th></th>\n",
              "      <th></th>\n",
              "      <th></th>\n",
              "    </tr>\n",
              "  </thead>\n",
              "  <tbody>\n",
              "    <tr>\n",
              "      <th>(2166, 3048]</th>\n",
              "      <td>173</td>\n",
              "      <td>156</td>\n",
              "      <td>2</td>\n",
              "    </tr>\n",
              "    <tr>\n",
              "      <th>(3048, 3929]</th>\n",
              "      <td>62</td>\n",
              "      <td>453</td>\n",
              "      <td>88</td>\n",
              "    </tr>\n",
              "    <tr>\n",
              "      <th>(3929, 4810]</th>\n",
              "      <td>0</td>\n",
              "      <td>23</td>\n",
              "      <td>25</td>\n",
              "    </tr>\n",
              "  </tbody>\n",
              "</table>\n",
              "</div>\n",
              "    <div class=\"colab-df-buttons\">\n",
              "\n",
              "  <div class=\"colab-df-container\">\n",
              "    <button class=\"colab-df-convert\" onclick=\"convertToInteractive('df-c3200b7d-26d5-417a-905d-531253a1ce50')\"\n",
              "            title=\"Convert this dataframe to an interactive table.\"\n",
              "            style=\"display:none;\">\n",
              "\n",
              "  <svg xmlns=\"http://www.w3.org/2000/svg\" height=\"24px\" viewBox=\"0 -960 960 960\">\n",
              "    <path d=\"M120-120v-720h720v720H120Zm60-500h600v-160H180v160Zm220 220h160v-160H400v160Zm0 220h160v-160H400v160ZM180-400h160v-160H180v160Zm440 0h160v-160H620v160ZM180-180h160v-160H180v160Zm440 0h160v-160H620v160Z\"/>\n",
              "  </svg>\n",
              "    </button>\n",
              "\n",
              "  <style>\n",
              "    .colab-df-container {\n",
              "      display:flex;\n",
              "      gap: 12px;\n",
              "    }\n",
              "\n",
              "    .colab-df-convert {\n",
              "      background-color: #E8F0FE;\n",
              "      border: none;\n",
              "      border-radius: 50%;\n",
              "      cursor: pointer;\n",
              "      display: none;\n",
              "      fill: #1967D2;\n",
              "      height: 32px;\n",
              "      padding: 0 0 0 0;\n",
              "      width: 32px;\n",
              "    }\n",
              "\n",
              "    .colab-df-convert:hover {\n",
              "      background-color: #E2EBFA;\n",
              "      box-shadow: 0px 1px 2px rgba(60, 64, 67, 0.3), 0px 1px 3px 1px rgba(60, 64, 67, 0.15);\n",
              "      fill: #174EA6;\n",
              "    }\n",
              "\n",
              "    .colab-df-buttons div {\n",
              "      margin-bottom: 4px;\n",
              "    }\n",
              "\n",
              "    [theme=dark] .colab-df-convert {\n",
              "      background-color: #3B4455;\n",
              "      fill: #D2E3FC;\n",
              "    }\n",
              "\n",
              "    [theme=dark] .colab-df-convert:hover {\n",
              "      background-color: #434B5C;\n",
              "      box-shadow: 0px 1px 3px 1px rgba(0, 0, 0, 0.15);\n",
              "      filter: drop-shadow(0px 1px 2px rgba(0, 0, 0, 0.3));\n",
              "      fill: #FFFFFF;\n",
              "    }\n",
              "  </style>\n",
              "\n",
              "    <script>\n",
              "      const buttonEl =\n",
              "        document.querySelector('#df-c3200b7d-26d5-417a-905d-531253a1ce50 button.colab-df-convert');\n",
              "      buttonEl.style.display =\n",
              "        google.colab.kernel.accessAllowed ? 'block' : 'none';\n",
              "\n",
              "      async function convertToInteractive(key) {\n",
              "        const element = document.querySelector('#df-c3200b7d-26d5-417a-905d-531253a1ce50');\n",
              "        const dataTable =\n",
              "          await google.colab.kernel.invokeFunction('convertToInteractive',\n",
              "                                                    [key], {});\n",
              "        if (!dataTable) return;\n",
              "\n",
              "        const docLinkHtml = 'Like what you see? Visit the ' +\n",
              "          '<a target=\"_blank\" href=https://colab.research.google.com/notebooks/data_table.ipynb>data table notebook</a>'\n",
              "          + ' to learn more about interactive tables.';\n",
              "        element.innerHTML = '';\n",
              "        dataTable['output_type'] = 'display_data';\n",
              "        await google.colab.output.renderOutput(dataTable, element);\n",
              "        const docLink = document.createElement('div');\n",
              "        docLink.innerHTML = docLinkHtml;\n",
              "        element.appendChild(docLink);\n",
              "      }\n",
              "    </script>\n",
              "  </div>\n",
              "\n",
              "\n",
              "<div id=\"df-f04010a2-55d5-4a42-8065-2e1210efa201\">\n",
              "  <button class=\"colab-df-quickchart\" onclick=\"quickchart('df-f04010a2-55d5-4a42-8065-2e1210efa201')\"\n",
              "            title=\"Suggest charts.\"\n",
              "            style=\"display:none;\">\n",
              "\n",
              "<svg xmlns=\"http://www.w3.org/2000/svg\" height=\"24px\"viewBox=\"0 0 24 24\"\n",
              "     width=\"24px\">\n",
              "    <g>\n",
              "        <path d=\"M19 3H5c-1.1 0-2 .9-2 2v14c0 1.1.9 2 2 2h14c1.1 0 2-.9 2-2V5c0-1.1-.9-2-2-2zM9 17H7v-7h2v7zm4 0h-2V7h2v10zm4 0h-2v-4h2v4z\"/>\n",
              "    </g>\n",
              "</svg>\n",
              "  </button>\n",
              "\n",
              "<style>\n",
              "  .colab-df-quickchart {\n",
              "      --bg-color: #E8F0FE;\n",
              "      --fill-color: #1967D2;\n",
              "      --hover-bg-color: #E2EBFA;\n",
              "      --hover-fill-color: #174EA6;\n",
              "      --disabled-fill-color: #AAA;\n",
              "      --disabled-bg-color: #DDD;\n",
              "  }\n",
              "\n",
              "  [theme=dark] .colab-df-quickchart {\n",
              "      --bg-color: #3B4455;\n",
              "      --fill-color: #D2E3FC;\n",
              "      --hover-bg-color: #434B5C;\n",
              "      --hover-fill-color: #FFFFFF;\n",
              "      --disabled-bg-color: #3B4455;\n",
              "      --disabled-fill-color: #666;\n",
              "  }\n",
              "\n",
              "  .colab-df-quickchart {\n",
              "    background-color: var(--bg-color);\n",
              "    border: none;\n",
              "    border-radius: 50%;\n",
              "    cursor: pointer;\n",
              "    display: none;\n",
              "    fill: var(--fill-color);\n",
              "    height: 32px;\n",
              "    padding: 0;\n",
              "    width: 32px;\n",
              "  }\n",
              "\n",
              "  .colab-df-quickchart:hover {\n",
              "    background-color: var(--hover-bg-color);\n",
              "    box-shadow: 0 1px 2px rgba(60, 64, 67, 0.3), 0 1px 3px 1px rgba(60, 64, 67, 0.15);\n",
              "    fill: var(--button-hover-fill-color);\n",
              "  }\n",
              "\n",
              "  .colab-df-quickchart-complete:disabled,\n",
              "  .colab-df-quickchart-complete:disabled:hover {\n",
              "    background-color: var(--disabled-bg-color);\n",
              "    fill: var(--disabled-fill-color);\n",
              "    box-shadow: none;\n",
              "  }\n",
              "\n",
              "  .colab-df-spinner {\n",
              "    border: 2px solid var(--fill-color);\n",
              "    border-color: transparent;\n",
              "    border-bottom-color: var(--fill-color);\n",
              "    animation:\n",
              "      spin 1s steps(1) infinite;\n",
              "  }\n",
              "\n",
              "  @keyframes spin {\n",
              "    0% {\n",
              "      border-color: transparent;\n",
              "      border-bottom-color: var(--fill-color);\n",
              "      border-left-color: var(--fill-color);\n",
              "    }\n",
              "    20% {\n",
              "      border-color: transparent;\n",
              "      border-left-color: var(--fill-color);\n",
              "      border-top-color: var(--fill-color);\n",
              "    }\n",
              "    30% {\n",
              "      border-color: transparent;\n",
              "      border-left-color: var(--fill-color);\n",
              "      border-top-color: var(--fill-color);\n",
              "      border-right-color: var(--fill-color);\n",
              "    }\n",
              "    40% {\n",
              "      border-color: transparent;\n",
              "      border-right-color: var(--fill-color);\n",
              "      border-top-color: var(--fill-color);\n",
              "    }\n",
              "    60% {\n",
              "      border-color: transparent;\n",
              "      border-right-color: var(--fill-color);\n",
              "    }\n",
              "    80% {\n",
              "      border-color: transparent;\n",
              "      border-right-color: var(--fill-color);\n",
              "      border-bottom-color: var(--fill-color);\n",
              "    }\n",
              "    90% {\n",
              "      border-color: transparent;\n",
              "      border-bottom-color: var(--fill-color);\n",
              "    }\n",
              "  }\n",
              "</style>\n",
              "\n",
              "  <script>\n",
              "    async function quickchart(key) {\n",
              "      const quickchartButtonEl =\n",
              "        document.querySelector('#' + key + ' button');\n",
              "      quickchartButtonEl.disabled = true;  // To prevent multiple clicks.\n",
              "      quickchartButtonEl.classList.add('colab-df-spinner');\n",
              "      try {\n",
              "        const charts = await google.colab.kernel.invokeFunction(\n",
              "            'suggestCharts', [key], {});\n",
              "      } catch (error) {\n",
              "        console.error('Error during call to suggestCharts:', error);\n",
              "      }\n",
              "      quickchartButtonEl.classList.remove('colab-df-spinner');\n",
              "      quickchartButtonEl.classList.add('colab-df-quickchart-complete');\n",
              "    }\n",
              "    (() => {\n",
              "      let quickchartButtonEl =\n",
              "        document.querySelector('#df-f04010a2-55d5-4a42-8065-2e1210efa201 button');\n",
              "      quickchartButtonEl.style.display =\n",
              "        google.colab.kernel.accessAllowed ? 'block' : 'none';\n",
              "    })();\n",
              "  </script>\n",
              "</div>\n",
              "    </div>\n",
              "  </div>\n"
            ]
          },
          "metadata": {},
          "execution_count": 281
        }
      ],
      "source": [
        "# Création de la table de contingence en utilisant crosstab puis affichage du résultat\n",
        "table_de_contingence = pd.crosstab(Bretagne, Provence)\n",
        "table_de_contingence"
      ]
    },
    {
      "cell_type": "code",
      "source": [
        "N = np.array(table_de_contingence).sum()#Calcul de nombre des echantillons\n",
        "#Calcul de Ni et Nj\n",
        "Ni = np.array(table_de_contingence.sum(axis = 1))\n",
        "Nj = np.array(table_de_contingence.sum(axis = 0))\n",
        "#Création de la matrice TH : (Ni*Nj)/n et ouis on L'affiche\n",
        "TH=np.dot(Ni.reshape((n1,1)),Nj.reshape((1,n2)))/N\n",
        "print(TH)"
      ],
      "metadata": {
        "colab": {
          "base_uri": "https://localhost:8080/"
        },
        "id": "Konxp3SOE0t4",
        "outputId": "8fb78a90-05ff-4847-8d4f-c7e875185dea"
      },
      "id": "Konxp3SOE0t4",
      "execution_count": 282,
      "outputs": [
        {
          "output_type": "stream",
          "name": "stdout",
          "text": [
            "[[ 79.2107943  213.02647658  38.76272912]\n",
            " [144.30244399 388.0814664   70.61608961]\n",
            " [ 11.48676171  30.89205703   5.62118126]]\n"
          ]
        }
      ]
    },
    {
      "cell_type": "markdown",
      "source": [
        "On constate que la condition $N_iN_j/N>=5$ est vérifiée avec un nombre d'intervalles égale à 3"
      ],
      "metadata": {
        "id": "7H1E8lZ8nPTT"
      },
      "id": "7H1E8lZ8nPTT"
    },
    {
      "cell_type": "code",
      "source": [
        "A =np.sum((table_de_contingence.values - TH)**2/TH)# Calcul de la statistique qu'on appele A eo on l'affiche\n",
        "print(A)"
      ],
      "metadata": {
        "colab": {
          "base_uri": "https://localhost:8080/"
        },
        "id": "ZiBA5PaE54lp",
        "outputId": "b4d1ce7a-c99a-4a23-f27f-a43dd65db652"
      },
      "id": "ZiBA5PaE54lp",
      "execution_count": 283,
      "outputs": [
        {
          "output_type": "stream",
          "name": "stdout",
          "text": [
            "303.57320661348797\n"
          ]
        }
      ]
    },
    {
      "cell_type": "code",
      "source": [
        "degrees_of_freedom = (table_de_contingence.shape[0] - 1) * (table_de_contingence.shape[1] - 1)#Le degrés de liberté\n",
        "alpha = 0.01\n",
        "T = chi2.ppf(1 - alpha, degrees_of_freedom)# Calcul de la quantile de khi2\n",
        "#On test maintenant l'hypothèse:\n",
        "if A > T:\n",
        "    print(\"On rejète H0 : la consommation entre les deux régions n'est pas indépendante\")\n",
        "else:\n",
        "    print(\"On accepte H0: la consommation entre les deux régions est indépendante\")"
      ],
      "metadata": {
        "colab": {
          "base_uri": "https://localhost:8080/"
        },
        "id": "bZqCj3qMpbTa",
        "outputId": "a8e6b972-25fb-48a9-87a8-9d105963c66e"
      },
      "id": "bZqCj3qMpbTa",
      "execution_count": 284,
      "outputs": [
        {
          "output_type": "stream",
          "name": "stdout",
          "text": [
            "On rejète H0 : la consommation entre les deux régions n'est pas indépendante\n"
          ]
        }
      ]
    },
    {
      "cell_type": "markdown",
      "id": "339d7f64",
      "metadata": {
        "id": "339d7f64"
      },
      "source": [
        "## F. Intervalle de confiance"
      ]
    },
    {
      "cell_type": "markdown",
      "id": "1c957e74",
      "metadata": {
        "id": "1c957e74"
      },
      "source": [
        "Considérez la région Bretagne en hiver.\n",
        "\n",
        "1. Donnez l'intervalle de confiance pour un niveau $\\alpha=95\\%$ pour la moyenne consomation d'electricité."
      ]
    },
    {
      "cell_type": "markdown",
      "source": [
        "On définit $X = (X_1, ..., X_n)$ un échantillon de taille $n$ de la  consommation quotidienne d'electricité de la région Bretagne en hiver.\n",
        "\n",
        "On a  $X_i ∼ N(\\mu, \\sigma^2) \\space \\forall \\space 1\\le i\\le n \\space$  avec $\\mu \\in \\mathbb{R}$ et $\\sigma^2 \\in \\mathbb{R_+} $ inconnu.\n",
        "\n",
        "cherchons un intervalle de confiance de niveau $1-\\alpha$ pour le paramètre $\\mu$:\n",
        "\n",
        "Comme la variance est inconnue donc on la remplace par son estimateur non biaisé $S_n^2 = \\frac{1}{n - 1} \\sum_{i=1}^n (X_i - \\overline{X}_n)^2$ avec $\\overline{X}_n=\\frac{1}{n} \\sum_{i=1}^n X_i$ qui représente l'estimateur sans biais de la moyenne $\\mu$.\n",
        "\n",
        "On pose $T = \\varphi(X, \\mu) = \\frac{\\sqrt{n} \\left( \\overline{X}_n - \\mu \\right)}{S_n}$.\n",
        "On a d'après le cours, la variable aléatoire $T = \\varphi(X, \\mu)$ est distribuée suivant une loi de Student à $ (n − 1)$ degrés\n",
        "de liberté quels que soient les paramètres $\\mu$ et $\\sigma^2$ c'est à dire, $T \\sim \\mathcal{T}(n - 1) \\space \\forall \\mu $  et  $ \\sigma^2 $\n",
        "\n",
        "Notons $t_{n - 1}(p)$ le $p$-quantile de la loi $\\mathcal{T}(n - 1)$.\n",
        "\n",
        "\n",
        "On justifie la considéreration des intervalles symétriques par le fait que la loi de Student est unimodale et que son mode est 0.\n",
        "\n",
        "Par conséquent, $$P_{\\mu, \\sigma^2} \\left( -t_{n - 1} \\left( 1 - \\frac{\\alpha}{2} \\right) \\le \\varphi(X, \\mu) \\le t_{n - 1} \\left( 1 - \\frac{\\alpha}{2} \\right) \\right) = 1 - \\alpha$$.\n",
        "\n",
        "En résolvant la relation précédente par rapport à $\\mu$, nous obtenons, pour tout $\\mu$ et $\\sigma^2$:\n",
        "\n",
        "$$P_{\\mu, \\sigma^2} \\left( \\mu \\in \\left[ m, M \\right] \\right) = 1 - \\alpha$$\n",
        "avec:\n",
        "$$\n",
        "m=\\overline{X}_n-t_{n - 1}\\left(1-\\frac{\\alpha}{2}\\right) \\frac{S_n} {\\sqrt{n}}\\quad\n",
        "\\text{et}\\quad M =\\overline{X}_n+t_{n - 1}\\left(1-\\frac{\\alpha}{2} \\right) \\frac{S_n}{\\sqrt{n}}\n",
        "$$"
      ],
      "metadata": {
        "id": "cublf8rD1UvL"
      },
      "id": "cublf8rD1UvL"
    },
    {
      "cell_type": "code",
      "execution_count": 307,
      "id": "cd6315e4",
      "metadata": {
        "id": "cd6315e4",
        "colab": {
          "base_uri": "https://localhost:8080/"
        },
        "outputId": "0f7e80ce-355f-49a4-bc84-5375e29123c0"
      },
      "outputs": [
        {
          "output_type": "stream",
          "name": "stdout",
          "text": [
            "l'intervalle de confiance pour un niveau  α=95%  pour la moyenne consomation d'electricité de la région Bretagne en hiver est: [3188.5358874430117, 3239.8205280356037]\n"
          ]
        }
      ],
      "source": [
        "# Données\n",
        "donnees_hiver = df_region_hiver[\"consumption\"]\n",
        "n = len(donnees_hiver)\n",
        "# Calcul de la moyenne et de l'écart-type empirique\n",
        "moy_empirique = np.mean(donnees_hiver)\n",
        "ecart_type_empirique = np.std(donnees_hiver, ddof=1)\n",
        "# Définir le niveau alpha et le t_alpha(alpha-quantile de la loi de student à (n − 1) degrés de liberté)\n",
        "niveau_alpha = 0.05\n",
        "t_alpha = 1.962385#On definit la quantile de la loi de student avec degrès de liberté (n-1).\n",
        "# On determine l'intervalle de confiance\n",
        "m = moy_empirique - t_alpha * ecart_type_empirique / np.sqrt(n)\n",
        "M = moy_empirique + t_alpha * ecart_type_empirique / np.sqrt(n)\n",
        "print(f\"l'intervalle de confiance pour un niveau  α=95%  pour la moyenne consomation d'electricité de la région Bretagne en hiver est: [{m}, {M}]\")"
      ]
    },
    {
      "cell_type": "markdown",
      "id": "8490c8fa",
      "metadata": {
        "id": "8490c8fa"
      },
      "source": [
        "2. Donnez le résultat du test de Student pour un niveau $5\\%$ pour l'hypothèse null que la moyenne consomation en 2023 est egal à 3100MW."
      ]
    },
    {
      "cell_type": "code",
      "source": [
        "# Données\n",
        "consommation_bretagne_hiver_23 = donnees_Bretagne_23[\"consumption\"]\n",
        "n_23 = len(consommation_bretagne_hiver_23)\n",
        "\n",
        "# Calcul de la moyenne et de l'écart-type empirique\n",
        "moy_empirique_23 = np.mean(consommation_bretagne_hiver_23)\n",
        "var_empirique_23 = np.std(consommation_bretagne_hiver_23, ddof=1)\n",
        "\n",
        "# Définir le niveau alpha et le t_alpha(alpha-quantile de la loi de student à (n − 1) degrés de liberté)\n",
        "alpha = 0.05\n",
        "t_alpha = 1.9904#On definit la quantile de la loi de student avec degrès de liberté (n_23-1)\n",
        "\n",
        "# On determine l'intervalle de confiance\n",
        "m_23 = moy_empirique_23 - t_alpha * var_empirique_23 / np.sqrt(n_23)\n",
        "M_23 = moy_empirique_23 + t_alpha * var_empirique_23 / np.sqrt(n_23)\n",
        "\n",
        "print(f\"l'intervalle de confiance pour un niveau  α=95%  pour la moyenne consomation d'electricité de la région Bretagne en hiver est: [{m_23}, {M_23}]\")\n",
        "\n",
        "# printing results\n",
        "if (3100 >= m_23) & (3100 <= M_23)  :\n",
        "    print(\"l'hypothèse null est acceptée et on dit que la moyenne consomation en 2023 est egal à 3100MW\")\n",
        "else :\n",
        "    print(\"l'hypothèse null est rejetée et on dit que la moyenne consommation en 2023 est egal à 3100MW\")"
      ],
      "metadata": {
        "colab": {
          "base_uri": "https://localhost:8080/"
        },
        "id": "DCQVQtf6AdmJ",
        "outputId": "c092dd59-979a-41b4-ab4a-6381ecaf572e"
      },
      "id": "DCQVQtf6AdmJ",
      "execution_count": 309,
      "outputs": [
        {
          "output_type": "stream",
          "name": "stdout",
          "text": [
            "l'intervalle de confiance pour un niveau  α=95%  pour la moyenne consomation d'electricité de la région Bretagne en hiver est: [3020.757311532376, 3208.217688467624]\n",
            "l'hypothèse null est acceptée et on dit que la moyenne consomation en 2023 est egal à 3100MW\n"
          ]
        }
      ]
    }
  ],
  "metadata": {
    "kernelspec": {
      "display_name": "Python 3 (ipykernel)",
      "language": "python",
      "name": "python3"
    },
    "language_info": {
      "codemirror_mode": {
        "name": "ipython",
        "version": 3
      },
      "file_extension": ".py",
      "mimetype": "text/x-python",
      "name": "python",
      "nbconvert_exporter": "python",
      "pygments_lexer": "ipython3",
      "version": "3.9.7"
    },
    "colab": {
      "provenance": []
    }
  },
  "nbformat": 4,
  "nbformat_minor": 5
}